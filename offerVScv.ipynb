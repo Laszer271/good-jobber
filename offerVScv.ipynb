{
 "cells": [
  {
   "cell_type": "code",
   "execution_count": 12,
   "metadata": {},
   "outputs": [],
   "source": [
    "import os\n",
    "\n",
    "import warnings\n",
    "warnings.filterwarnings(\"ignore\")\n",
    "\n",
    "with open('openai_api_key.txt', 'r') as f:\n",
    "    os.environ[\"OPENAI_API_KEY\"] = f.read()"
   ]
  },
  {
   "cell_type": "code",
   "execution_count": 13,
   "metadata": {},
   "outputs": [],
   "source": [
    "from langchain.agents.agent_toolkits import create_python_agent\n",
    "from langchain.agents import load_tools, initialize_agent\n",
    "from langchain.agents import AgentType\n",
    "from langchain.tools.python.tool import PythonREPLTool\n",
    "from langchain.python import PythonREPL\n",
    "from langchain.chat_models import ChatOpenAI\n",
    "from langchain.agents import tool\n",
    "from datetime import date\n",
    "from langchain import LLMChain\n",
    "from langchain import PromptTemplate\n",
    "from langchain.agents import ZeroShotAgent, Tool, AgentExecutor\n",
    "from langchain import OpenAI, SerpAPIWrapper, LLMChain\n",
    "from langchain.chains import SequentialChain, RouterChain, ConversationChain, LLMRouterChain, MultiPromptChain, TransformChain\n",
    "from langchain.output_parsers import StructuredOutputParser, ResponseSchema\n",
    "from langchain.prompts import ChatPromptTemplate\n",
    "from langchain.chains.router.llm_router import LLMRouterChain,RouterOutputParser\n"
   ]
  },
  {
   "cell_type": "code",
   "execution_count": 14,
   "metadata": {},
   "outputs": [],
   "source": [
    "llm = ChatOpenAI(temperature=0)"
   ]
  },
  {
   "cell_type": "code",
   "execution_count": 15,
   "metadata": {},
   "outputs": [],
   "source": [
    "personalData = \"\"\"\\\n",
    "    city: London,\\\n",
    "    job-type: [Data Scientist, AI Software Engineer],\\\n",
    "    monthly-earnings: [1500 usd, 8000 usd],\\\n",
    "    skills: [fast learning, reading complicated documentation,\\ \n",
    "        creating clean data representation, data analysis],\\\n",
    "    interests: [generating ai images, data analysis, large language models],\\\n",
    "    benefits: [flexible hours, remote, health-insurance],\\\n",
    "    technology: [linux -medium, python -advanced, pytorch -advanced, matlabplot -beginner,\\\n",
    "    stable diffusion -beginner, vsc -advanced],\\\n",
    "    languages: [English C1, Polish C1]\n",
    "    \"\"\""
   ]
  },
  {
   "cell_type": "code",
   "execution_count": 16,
   "metadata": {},
   "outputs": [],
   "source": [
    "queryRank = \"\"\"Please, process given job offer and at the beginning the answer put a \\\n",
    "    header: \"<appropriate: match-level>\", where match levels are:\\\n",
    "    [Not appropriate, Acceptable, Ok, Super]. Chosen level shall depend on this how well given job \\\n",
    "    offer matches client job qualifications and preferences.\n",
    "    job offer: \n",
    "    {jobOffer}; \\\n",
    "    client's job qualifications and preferences:\n",
    "    {personalData};\\\n",
    "    \"\"\"\n",
    "\n",
    "promptRank = PromptTemplate(template=queryRank, input_variables=[\"jobOffer\", \"personalData\"])\n",
    "\n",
    "chainRank = LLMChain(llm=llm, prompt=promptRank, output_key='Verdict')"
   ]
  },
  {
   "cell_type": "code",
   "execution_count": 17,
   "metadata": {},
   "outputs": [],
   "source": [
    "jobOffer = \"C++ Backend Developer Volue Sp. z o.o. technology image Category: Backend , C++ Mid Must have C++English (B2) Nice to have PythonC#Polish Requirements description C++ programming experience and knowledge of modern C++ Familiarity with Microsoft platform and tools is beneficial Experience working in larger C++ codebases Experience working effectively in a distributed team Some experience with using databases Some knowledge of Python and C# Offer description Volue is a market leader in technologies and services that power the green transition. Around 800 employees work with more than 2 200 customers on energy, power grid, water & infrastructure projects.Our mission is to provide innovative services critical to society, unlocking a cleaner, better and more profitable future. Working towards this goal, Volue has become a leading technology supplier and enabler of the green transition, helping energy companies simplify and optimize everyday operations.We are now looking for Mid/Senior Software Engineer (Mesh Team), who can help us to continuously improve Volue’s ability to provide value to customers in line with the Volue mission. Volue Mesh is a data management system based on object modelling with an integrated time series calculation engine. It is used for more efficient managing of time series data and related information used in different work processes and serves as the core of all future energy production planning and trading solutions.read more Your responsibilities Contribute to all development phases: design, develop, build, deploy and maintain the C++ codebase of Volue Mesh Work closely together with architects, domain experts and backend developers Create and maintain user friendly solutions with clear APIs with efficient resource usage and high performance Work in an international environment, where English is the spoken and written language. The team is distributed in Gdańsk and Trondheim Work in a distributed team with a flexible work-from-home policy Work closely with data intensive applications that are using Mesh and Time Series Management systems to simplify complex workflows show all (7) Job details Online recruitment Recruitment language: Polish&English Start ASAP Permanent contract Remote days: flexible in a week Flexible hours Relocation package: 6000 PLN Perks in the office Free snacks Free coffee Free beverages Gym Canteen Bike parking Playroom Shower No dress code Benefits Sport subscription Life & group insurance Private healthcare English classes Training budget Flat structure Small teams International projects\""
   ]
  },
  {
   "cell_type": "code",
   "execution_count": 18,
   "metadata": {},
   "outputs": [
    {
     "name": "stdout",
     "output_type": "stream",
     "text": [
      "\u001b[32;1m\u001b[1;3m[chain/start]\u001b[0m \u001b[1m[1:chain:LLMChain] Entering Chain run with input:\n",
      "\u001b[0m{\n",
      "  \"jobOffer\": \"C++ Backend Developer Volue Sp. z o.o. technology image Category: Backend , C++ Mid Must have C++English (B2) Nice to have PythonC#Polish Requirements description C++ programming experience and knowledge of modern C++ Familiarity with Microsoft platform and tools is beneficial Experience working in larger C++ codebases Experience working effectively in a distributed team Some experience with using databases Some knowledge of Python and C# Offer description Volue is a market leader in technologies and services that power the green transition. Around 800 employees work with more than 2 200 customers on energy, power grid, water & infrastructure projects.Our mission is to provide innovative services critical to society, unlocking a cleaner, better and more profitable future. Working towards this goal, Volue has become a leading technology supplier and enabler of the green transition, helping energy companies simplify and optimize everyday operations.We are now looking for Mid/Senior Software Engineer (Mesh Team), who can help us to continuously improve Volue’s ability to provide value to customers in line with the Volue mission. Volue Mesh is a data management system based on object modelling with an integrated time series calculation engine. It is used for more efficient managing of time series data and related information used in different work processes and serves as the core of all future energy production planning and trading solutions.read more Your responsibilities Contribute to all development phases: design, develop, build, deploy and maintain the C++ codebase of Volue Mesh Work closely together with architects, domain experts and backend developers Create and maintain user friendly solutions with clear APIs with efficient resource usage and high performance Work in an international environment, where English is the spoken and written language. The team is distributed in Gdańsk and Trondheim Work in a distributed team with a flexible work-from-home policy Work closely with data intensive applications that are using Mesh and Time Series Management systems to simplify complex workflows show all (7) Job details Online recruitment Recruitment language: Polish&English Start ASAP Permanent contract Remote days: flexible in a week Flexible hours Relocation package: 6000 PLN Perks in the office Free snacks Free coffee Free beverages Gym Canteen Bike parking Playroom Shower No dress code Benefits Sport subscription Life & group insurance Private healthcare English classes Training budget Flat structure Small teams International projects\",\n",
      "  \"personalData\": \"    city: London,    job-type: [Data Scientist, AI Software Engineer],    monthly-earnings: [1500 usd, 8000 usd],    skills: [fast learning, reading complicated documentation,\\\\ \\n        creating clean data representation, data analysis],    interests: [generating ai images, data analysis, large language models],    benefits: [flexible hours, remote, health-insurance],    technology: [linux -medium, python -advanced, pytorch -advanced, matlabplot -beginner,    stable diffusion -beginner, vsc -advanced],    languages: [English C1, Polish C1]\\n    \"\n",
      "}\n",
      "\u001b[32;1m\u001b[1;3m[llm/start]\u001b[0m \u001b[1m[1:chain:LLMChain > 2:llm:ChatOpenAI] Entering LLM run with input:\n",
      "\u001b[0m{\n",
      "  \"prompts\": [\n",
      "    \"Human: Please, process given job offer and at the beginning the answer put a     header: \\\"<appropriate: match-level>\\\", where match levels are:    [Not appropriate, Acceptable, Ok, Super]. Chosen level shall depend on this how well given job     offer matches client job qualifications and preferences.\\n    job offer: \\n    C++ Backend Developer Volue Sp. z o.o. technology image Category: Backend , C++ Mid Must have C++English (B2) Nice to have PythonC#Polish Requirements description C++ programming experience and knowledge of modern C++ Familiarity with Microsoft platform and tools is beneficial Experience working in larger C++ codebases Experience working effectively in a distributed team Some experience with using databases Some knowledge of Python and C# Offer description Volue is a market leader in technologies and services that power the green transition. Around 800 employees work with more than 2 200 customers on energy, power grid, water & infrastructure projects.Our mission is to provide innovative services critical to society, unlocking a cleaner, better and more profitable future. Working towards this goal, Volue has become a leading technology supplier and enabler of the green transition, helping energy companies simplify and optimize everyday operations.We are now looking for Mid/Senior Software Engineer (Mesh Team), who can help us to continuously improve Volue’s ability to provide value to customers in line with the Volue mission. Volue Mesh is a data management system based on object modelling with an integrated time series calculation engine. It is used for more efficient managing of time series data and related information used in different work processes and serves as the core of all future energy production planning and trading solutions.read more Your responsibilities Contribute to all development phases: design, develop, build, deploy and maintain the C++ codebase of Volue Mesh Work closely together with architects, domain experts and backend developers Create and maintain user friendly solutions with clear APIs with efficient resource usage and high performance Work in an international environment, where English is the spoken and written language. The team is distributed in Gdańsk and Trondheim Work in a distributed team with a flexible work-from-home policy Work closely with data intensive applications that are using Mesh and Time Series Management systems to simplify complex workflows show all (7) Job details Online recruitment Recruitment language: Polish&English Start ASAP Permanent contract Remote days: flexible in a week Flexible hours Relocation package: 6000 PLN Perks in the office Free snacks Free coffee Free beverages Gym Canteen Bike parking Playroom Shower No dress code Benefits Sport subscription Life & group insurance Private healthcare English classes Training budget Flat structure Small teams International projects;     client's job qualifications and preferences:\\n        city: London,    job-type: [Data Scientist, AI Software Engineer],    monthly-earnings: [1500 usd, 8000 usd],    skills: [fast learning, reading complicated documentation,\\\\ \\n        creating clean data representation, data analysis],    interests: [generating ai images, data analysis, large language models],    benefits: [flexible hours, remote, health-insurance],    technology: [linux -medium, python -advanced, pytorch -advanced, matlabplot -beginner,    stable diffusion -beginner, vsc -advanced],    languages: [English C1, Polish C1]\\n    ;\"\n",
      "  ]\n",
      "}\n",
      "\u001b[36;1m\u001b[1;3m[llm/end]\u001b[0m \u001b[1m[1:chain:LLMChain > 2:llm:ChatOpenAI] [9.88s] Exiting LLM run with output:\n",
      "\u001b[0m{\n",
      "  \"generations\": [\n",
      "    [\n",
      "      {\n",
      "        \"text\": \"<Acceptable: match-level>\\n\\nThe job offer as a C++ Backend Developer at Volue Sp. z o.o. is acceptable for the client's job qualifications and preferences. While the job offer does not perfectly align with the client's desired job type of Data Scientist or AI Software Engineer, it does match their skills in data analysis and their interest in generating AI images. The client's language proficiency in English and Polish also meets the requirements of the job offer. Additionally, the job offer offers benefits such as flexible hours and the option to work remotely, which align with the client's preferences. However, the technology requirements mentioned in the job offer do not fully match the client's skills, as they have advanced proficiency in Python and PyTorch, but only beginner proficiency in Matlabplot and stable diffusion. Overall, the job offer is acceptable for the client's qualifications and preferences.\",\n",
      "        \"generation_info\": {\n",
      "          \"finish_reason\": \"stop\"\n",
      "        },\n",
      "        \"message\": {\n",
      "          \"lc\": 1,\n",
      "          \"type\": \"constructor\",\n",
      "          \"id\": [\n",
      "            \"langchain\",\n",
      "            \"schema\",\n",
      "            \"messages\",\n",
      "            \"AIMessage\"\n",
      "          ],\n",
      "          \"kwargs\": {\n",
      "            \"content\": \"<Acceptable: match-level>\\n\\nThe job offer as a C++ Backend Developer at Volue Sp. z o.o. is acceptable for the client's job qualifications and preferences. While the job offer does not perfectly align with the client's desired job type of Data Scientist or AI Software Engineer, it does match their skills in data analysis and their interest in generating AI images. The client's language proficiency in English and Polish also meets the requirements of the job offer. Additionally, the job offer offers benefits such as flexible hours and the option to work remotely, which align with the client's preferences. However, the technology requirements mentioned in the job offer do not fully match the client's skills, as they have advanced proficiency in Python and PyTorch, but only beginner proficiency in Matlabplot and stable diffusion. Overall, the job offer is acceptable for the client's qualifications and preferences.\",\n",
      "            \"additional_kwargs\": {}\n",
      "          }\n",
      "        }\n",
      "      }\n",
      "    ]\n",
      "  ],\n",
      "  \"llm_output\": {\n",
      "    \"token_usage\": {\n",
      "      \"prompt_tokens\": 681,\n",
      "      \"completion_tokens\": 176,\n",
      "      \"total_tokens\": 857\n",
      "    },\n",
      "    \"model_name\": \"gpt-3.5-turbo\"\n",
      "  },\n",
      "  \"run\": null\n",
      "}\n",
      "\u001b[36;1m\u001b[1;3m[chain/end]\u001b[0m \u001b[1m[1:chain:LLMChain] [9.88s] Exiting Chain run with output:\n",
      "\u001b[0m{\n",
      "  \"Verdict\": \"<Acceptable: match-level>\\n\\nThe job offer as a C++ Backend Developer at Volue Sp. z o.o. is acceptable for the client's job qualifications and preferences. While the job offer does not perfectly align with the client's desired job type of Data Scientist or AI Software Engineer, it does match their skills in data analysis and their interest in generating AI images. The client's language proficiency in English and Polish also meets the requirements of the job offer. Additionally, the job offer offers benefits such as flexible hours and the option to work remotely, which align with the client's preferences. However, the technology requirements mentioned in the job offer do not fully match the client's skills, as they have advanced proficiency in Python and PyTorch, but only beginner proficiency in Matlabplot and stable diffusion. Overall, the job offer is acceptable for the client's qualifications and preferences.\"\n",
      "}\n"
     ]
    }
   ],
   "source": [
    "result = chainRank({\"jobOffer\": jobOffer, \"personalData\": personalData})"
   ]
  },
  {
   "cell_type": "code",
   "execution_count": 19,
   "metadata": {},
   "outputs": [
    {
     "name": "stdout",
     "output_type": "stream",
     "text": [
      "{'jobOffer': 'C++ Backend Developer Volue Sp. z o.o. technology image Category: Backend , C++ Mid Must have C++English (B2) Nice to have PythonC#Polish Requirements description C++ programming experience and knowledge of modern C++ Familiarity with Microsoft platform and tools is beneficial Experience working in larger C++ codebases Experience working effectively in a distributed team Some experience with using databases Some knowledge of Python and C# Offer description Volue is a market leader in technologies and services that power the green transition. Around 800 employees work with more than 2 200 customers on energy, power grid, water & infrastructure projects.Our mission is to provide innovative services critical to society, unlocking a cleaner, better and more profitable future. Working towards this goal, Volue has become a leading technology supplier and enabler of the green transition, helping energy companies simplify and optimize everyday operations.We are now looking for Mid/Senior Software Engineer (Mesh Team), who can help us to continuously improve Volue’s ability to provide value to customers in line with the Volue mission. Volue Mesh is a data management system based on object modelling with an integrated time series calculation engine. It is used for more efficient managing of time series data and related information used in different work processes and serves as the core of all future energy production planning and trading solutions.read more Your responsibilities Contribute to all development phases: design, develop, build, deploy and maintain the C++ codebase of Volue Mesh Work closely together with architects, domain experts and backend developers Create and maintain user friendly solutions with clear APIs with efficient resource usage and high performance Work in an international environment, where English is the spoken and written language. The team is distributed in Gdańsk and Trondheim Work in a distributed team with a flexible work-from-home policy Work closely with data intensive applications that are using Mesh and Time Series Management systems to simplify complex workflows show all (7) Job details Online recruitment Recruitment language: Polish&English Start ASAP Permanent contract Remote days: flexible in a week Flexible hours Relocation package: 6000 PLN Perks in the office Free snacks Free coffee Free beverages Gym Canteen Bike parking Playroom Shower No dress code Benefits Sport subscription Life & group insurance Private healthcare English classes Training budget Flat structure Small teams International projects', 'personalData': '    city: London,    job-type: [Data Scientist, AI Software Engineer],    monthly-earnings: [1500 usd, 8000 usd],    skills: [fast learning, reading complicated documentation,\\\\ \\n        creating clean data representation, data analysis],    interests: [generating ai images, data analysis, large language models],    benefits: [flexible hours, remote, health-insurance],    technology: [linux -medium, python -advanced, pytorch -advanced, matlabplot -beginner,    stable diffusion -beginner, vsc -advanced],    languages: [English C1, Polish C1]\\n    ', 'Verdict': \"<Acceptable: match-level>\\n\\nThe job offer as a C++ Backend Developer at Volue Sp. z o.o. is acceptable for the client's job qualifications and preferences. While the job offer does not perfectly align with the client's desired job type of Data Scientist or AI Software Engineer, it does match their skills in data analysis and their interest in generating AI images. The client's language proficiency in English and Polish also meets the requirements of the job offer. Additionally, the job offer offers benefits such as flexible hours and the option to work remotely, which align with the client's preferences. However, the technology requirements mentioned in the job offer do not fully match the client's skills, as they have advanced proficiency in Python and PyTorch, but only beginner proficiency in Matlabplot and stable diffusion. Overall, the job offer is acceptable for the client's qualifications and preferences.\"}\n"
     ]
    }
   ],
   "source": [
    "print(result)"
   ]
  },
  {
   "cell_type": "code",
   "execution_count": 20,
   "metadata": {},
   "outputs": [
    {
     "ename": "ValidationError",
     "evalue": "1 validation error for PromptTemplate\n__root__\n  Invalid prompt schema; check for mismatched or missing input parameters. {'jobOffer', 'personalData'} (type=value_error)",
     "output_type": "error",
     "traceback": [
      "\u001b[0;31m---------------------------------------------------------------------------\u001b[0m",
      "\u001b[0;31mValidationError\u001b[0m                           Traceback (most recent call last)",
      "Cell \u001b[0;32mIn[20], line 105\u001b[0m\n\u001b[1;32m     71\u001b[0m MULTI_PROMPT_ROUTER_TEMPLATE \u001b[39m=\u001b[39m \u001b[39m\"\"\"\u001b[39m\u001b[39mGiven a raw text input to a \u001b[39m\u001b[39m\\\u001b[39;00m\n\u001b[1;32m     72\u001b[0m \u001b[39mlanguage model select the model prompt best suited for the input. \u001b[39m\u001b[39m\\\u001b[39;00m\n\u001b[1;32m     73\u001b[0m \u001b[39mYou will be given the names of the available prompts and a \u001b[39m\u001b[39m\\\u001b[39;00m\n\u001b[0;32m   (...)\u001b[0m\n\u001b[1;32m     98\u001b[0m \n\u001b[1;32m     99\u001b[0m \u001b[39m<< OUTPUT (remember to include the ```json)>>\u001b[39m\u001b[39m\"\"\"\u001b[39m \n\u001b[1;32m    101\u001b[0m router_template \u001b[39m=\u001b[39m MULTI_PROMPT_ROUTER_TEMPLATE\u001b[39m.\u001b[39mformat(\n\u001b[1;32m    102\u001b[0m     destinations\u001b[39m=\u001b[39mdestinations_str\n\u001b[1;32m    103\u001b[0m )  \n\u001b[0;32m--> 105\u001b[0m router_prompt \u001b[39m=\u001b[39m PromptTemplate(\n\u001b[1;32m    106\u001b[0m     template\u001b[39m=\u001b[39;49mrouter_template,\n\u001b[1;32m    107\u001b[0m     input_variables\u001b[39m=\u001b[39;49m[\u001b[39m\"\u001b[39;49m\u001b[39mVerdict\u001b[39;49m\u001b[39m\"\u001b[39;49m,\u001b[39m\"\u001b[39;49m\u001b[39mjobOffer\u001b[39;49m\u001b[39m\"\u001b[39;49m, \u001b[39m\"\u001b[39;49m\u001b[39mpersonalData\u001b[39;49m\u001b[39m\"\u001b[39;49m],\n\u001b[1;32m    108\u001b[0m     output_parser\u001b[39m=\u001b[39;49mRouterOutputParser(),\n\u001b[1;32m    109\u001b[0m )\n\u001b[1;32m    111\u001b[0m routerChainDesc \u001b[39m=\u001b[39m LLMRouterChain\u001b[39m.\u001b[39mfrom_llm(llm, router_prompt)\n\u001b[1;32m    113\u001b[0m chainDescription \u001b[39m=\u001b[39m MultiPromptChain(router_chain\u001b[39m=\u001b[39mrouterChainDesc, \n\u001b[1;32m    114\u001b[0m                          destination_chains\u001b[39m=\u001b[39mdestination_chains, \n\u001b[1;32m    115\u001b[0m                          default_chain\u001b[39m=\u001b[39mdefault_chain)\n",
      "File \u001b[0;32m~/Coding/good-jobber/venv/lib/python3.10/site-packages/langchain/load/serializable.py:74\u001b[0m, in \u001b[0;36mSerializable.__init__\u001b[0;34m(self, **kwargs)\u001b[0m\n\u001b[1;32m     73\u001b[0m \u001b[39mdef\u001b[39;00m \u001b[39m__init__\u001b[39m(\u001b[39mself\u001b[39m, \u001b[39m*\u001b[39m\u001b[39m*\u001b[39mkwargs: Any) \u001b[39m-\u001b[39m\u001b[39m>\u001b[39m \u001b[39mNone\u001b[39;00m:\n\u001b[0;32m---> 74\u001b[0m     \u001b[39msuper\u001b[39;49m()\u001b[39m.\u001b[39;49m\u001b[39m__init__\u001b[39;49m(\u001b[39m*\u001b[39;49m\u001b[39m*\u001b[39;49mkwargs)\n\u001b[1;32m     75\u001b[0m     \u001b[39mself\u001b[39m\u001b[39m.\u001b[39m_lc_kwargs \u001b[39m=\u001b[39m kwargs\n",
      "File \u001b[0;32m~/Coding/good-jobber/venv/lib/python3.10/site-packages/pydantic/main.py:341\u001b[0m, in \u001b[0;36mpydantic.main.BaseModel.__init__\u001b[0;34m()\u001b[0m\n",
      "\u001b[0;31mValidationError\u001b[0m: 1 validation error for PromptTemplate\n__root__\n  Invalid prompt schema; check for mismatched or missing input parameters. {'jobOffer', 'personalData'} (type=value_error)"
     ]
    }
   ],
   "source": [
    "superVerdictTemplate = \"\"\"You are given a job offer and client personal perferences and qualifications. \\\n",
    "    Your task is to briefly, reason why given job offer would be good choice for a client. Be very enthustiastic, \\\n",
    "    try to limit your answer to just two sentences. Write only that reasoning in your answer. \\\n",
    "    Here is job offer: \n",
    "    {jobOffer} \n",
    "    \n",
    "    And here are informations about a client:\n",
    "    {personalData}\"\"\"\n",
    "    \n",
    "okVerdictTemplate = \"\"\"You are given a job offer and client personal perferences and qualifications. \\\n",
    "    Your task is to briefly, reason why given job offer would be ok choice for a client. \\\n",
    "    Try to limit your answer to just three sentences. Tell what might not suit a client in the offer. \\\n",
    "    Write only that reasoning in your answer. \\\n",
    "    Here is job offer: \n",
    "    {jobOffer} \n",
    "    \n",
    "    And here are informations about a client:\n",
    "    {personalData}\"\"\"\n",
    "    \n",
    "acceptableVerdictTemplate = \"\"\"You are given a job offer and client personal perferences and qualifications. \\\n",
    "    Your task is to briefly, reason why given job offer would be ok choice for a client. \\\n",
    "    Try to limit your answer to just three sentences. Tell that job can be hard to get with the client's qualifications or \\\n",
    "    might just not suit the client's preferences. \\\n",
    "    Write only that reasoning in your answer. \\\n",
    "    Here is job offer: \n",
    "    {jobOffer} \n",
    "    \n",
    "    And here are informations about a client:\n",
    "    {personalData}\"\"\"\n",
    "\n",
    "# def transform_func(inputs: dict) -> dict:\n",
    "#     return {\"description\": \"\"} \n",
    "\n",
    "# default_chainsssss = TransformChain(\n",
    "#     input_variables=[\"input\"],\n",
    "#     output_variables=[\"Reasoning\"],\n",
    "#     transform=transform_func\n",
    "# )\n",
    "\n",
    "default_chain = ConversationChain(llm=llm, output_key=\"Reasoning\")\n",
    "\n",
    "prompt_infos = [\n",
    "    {\n",
    "        \"name\": \"Acceptable\", \n",
    "        \"description\": \"Good for describing acceptable job offers\", \n",
    "        \"prompt_template\": acceptableVerdictTemplate\n",
    "    },\n",
    "    {\n",
    "        \"name\": \"Ok\", \n",
    "        \"description\": \"Good for describing Ok job offers\", \n",
    "        \"prompt_template\": okVerdictTemplate\n",
    "    },\n",
    "    {\n",
    "        \"name\": \"Super\", \n",
    "        \"description\": \"Good for describing super job offers\", \n",
    "        \"prompt_template\": superVerdictTemplate\n",
    "    },\n",
    "]\n",
    "\n",
    "destination_chains = {}\n",
    "for p_info in prompt_infos:\n",
    "    name = p_info[\"name\"]\n",
    "    prompt_template = p_info[\"prompt_template\"]\n",
    "    prompt = PromptTemplate(template=prompt_template, input_variables=['personalData', 'jobOffer'])\n",
    "    chain = LLMChain(llm=llm, prompt=prompt, output_key=\"Reasoning\")\n",
    "    destination_chains[name] = chain  \n",
    "    \n",
    "destinations = [f\"{p['name']}: {p['description']}\" for p in prompt_infos]\n",
    "destinations_str = \"\\n\".join(destinations)\n",
    " \n",
    "MULTI_PROMPT_ROUTER_TEMPLATE = \"\"\"Given a raw text input to a \\\n",
    "language model select the model prompt best suited for the input. \\\n",
    "You will be given the names of the available prompts and a \\\n",
    "description of what the prompt is best suited for. \\\n",
    "You may also revise the original input if you think that revising\\\n",
    "it will ultimately lead to a better response from the language model.\n",
    "\n",
    "<< FORMATTING >>\n",
    "Return a markdown code snippet with a JSON object formatted to look like:\n",
    "```json\n",
    "{{{{\n",
    "    \"destination\": string \\ name of the prompt to use or \"DEFAULT\"\n",
    "    \"next_inputs\": string \\ a potentially modified version of the original input\n",
    "}}}}\n",
    "```\n",
    "\n",
    "REMEMBER: \"destination\" MUST be one of the candidate prompt \\\n",
    "names specified below OR it can be \"DEFAULT\" if the input is not\\\n",
    "well suited for any of the candidate prompts.\n",
    "REMEMBER: \"next_inputs\" can just be the original input \\\n",
    "if you don't think any modifications are needed.\n",
    "\n",
    "<< CANDIDATE PROMPTS >>\n",
    "{destinations}\n",
    "\n",
    "<< INPUT >>\n",
    "{{Verdict}}\n",
    "\n",
    "<< OUTPUT (remember to include the ```json)>>\"\"\" \n",
    "  \n",
    "router_template = MULTI_PROMPT_ROUTER_TEMPLATE.format(\n",
    "    destinations=destinations_str\n",
    ")  \n",
    "        \n",
    "router_prompt = PromptTemplate(\n",
    "    template=router_template,\n",
    "    input_variables=[\"Verdict\"],\n",
    "    output_parser=RouterOutputParser(),\n",
    ")\n",
    "\n",
    "routerChainDesc = LLMRouterChain.from_llm(llm, router_prompt)\n",
    "\n",
    "chainDescription = MultiPromptChain(router_chain=routerChainDesc, \n",
    "                         destination_chains=destination_chains, \n",
    "                         default_chain=default_chain)"
   ]
  },
  {
   "cell_type": "code",
   "execution_count": null,
   "metadata": {},
   "outputs": [],
   "source": [
    "overall_chain = SequentialChain(\n",
    "    chains=[chainRank, chainDescription],\n",
    "    input_variables=[\"jobOffer\", \"personalData\"],\n",
    "    output_variables=[\"Verdict\", \"text\"],\n",
    "    verbose=True\n",
    ")"
   ]
  },
  {
   "cell_type": "code",
   "execution_count": null,
   "metadata": {},
   "outputs": [],
   "source": [
    "import langchain\n",
    "\n",
    "\n",
    "langchain.debug = True\n",
    "result = overall_chain({\"jobOffer\": jobOffer, \"personalData\": personalData})\n",
    "print(result)"
   ]
  }
 ],
 "metadata": {
  "kernelspec": {
   "display_name": "venv",
   "language": "python",
   "name": "python3"
  },
  "language_info": {
   "codemirror_mode": {
    "name": "ipython",
    "version": 3
   },
   "file_extension": ".py",
   "mimetype": "text/x-python",
   "name": "python",
   "nbconvert_exporter": "python",
   "pygments_lexer": "ipython3",
   "version": "3.10.6"
  },
  "orig_nbformat": 4,
  "vscode": {
   "interpreter": {
    "hash": "2dd4c0f83caf739e5f412ceff66ea8e46f3e37bbfb794296d7dabdd86d63d0c6"
   }
  }
 },
 "nbformat": 4,
 "nbformat_minor": 2
}
