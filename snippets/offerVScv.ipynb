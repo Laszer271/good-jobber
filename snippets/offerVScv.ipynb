{
 "cells": [
  {
   "cell_type": "code",
   "execution_count": 1,
   "metadata": {},
   "outputs": [],
   "source": [
    "import os\n",
    "\n",
    "import warnings\n",
    "warnings.filterwarnings(\"ignore\")\n",
    "\n",
    "with open('../credentials/openai.txt', 'r') as f:\n",
    "    os.environ[\"OPENAI_API_KEY\"] = f.read()"
   ]
  },
  {
   "cell_type": "code",
   "execution_count": 2,
   "metadata": {},
   "outputs": [],
   "source": [
    "from langchain.agents.agent_toolkits import create_python_agent\n",
    "from langchain.agents import load_tools, initialize_agent\n",
    "from langchain.agents import AgentType\n",
    "from langchain.tools.python.tool import PythonREPLTool\n",
    "from langchain.python import PythonREPL\n",
    "from langchain.chat_models import ChatOpenAI\n",
    "from langchain.agents import tool\n",
    "from datetime import date\n",
    "from langchain import LLMChain\n",
    "from langchain import PromptTemplate\n",
    "from langchain.agents import ZeroShotAgent, Tool, AgentExecutor\n",
    "from langchain import OpenAI, SerpAPIWrapper, LLMChain\n",
    "from langchain.chains import SequentialChain, RouterChain, ConversationChain, LLMRouterChain, MultiPromptChain, TransformChain\n",
    "from langchain.output_parsers import StructuredOutputParser, ResponseSchema\n",
    "from langchain.prompts import ChatPromptTemplate\n",
    "from langchain.chains.router.llm_router import LLMRouterChain,RouterOutputParser\n"
   ]
  },
  {
   "cell_type": "code",
   "execution_count": 3,
   "metadata": {},
   "outputs": [],
   "source": [
    "llm = ChatOpenAI(temperature=0)"
   ]
  },
  {
   "cell_type": "code",
   "execution_count": 4,
   "metadata": {},
   "outputs": [],
   "source": [
    "personalData = \"\"\"\\\n",
    "    city: London,\\\n",
    "    job-type: [Data Scientist, AI Software Engineer],\\\n",
    "    monthly-earnings: [1500 usd, 8000 usd],\\\n",
    "    skills: [fast learning, reading complicated documentation,\\ \n",
    "        creating clean data representation, data analysis],\\\n",
    "    interests: [generating ai images, data analysis, large language models],\\\n",
    "    benefits: [flexible hours, remote, health-insurance],\\\n",
    "    technology: [linux -medium, python -advanced, pytorch -advanced, matlabplot -beginner,\\\n",
    "    stable diffusion -beginner, vsc -advanced],\\\n",
    "    languages: [English C1, Polish C1]\n",
    "    \"\"\""
   ]
  },
  {
   "cell_type": "code",
   "execution_count": 5,
   "metadata": {},
   "outputs": [],
   "source": [
    "# jobOffer = \"C++ Backend Developer Volue Sp. z o.o. technology image Category: Backend , C++ Mid Must have C++English (B2) Nice to have PythonC#Polish Requirements description C++ programming experience and knowledge of modern C++ Familiarity with Microsoft platform and tools is beneficial Experience working in larger C++ codebases Experience working effectively in a distributed team Some experience with using databases Some knowledge of Python and C# Offer description Volue is a market leader in technologies and services that power the green transition. Around 800 employees work with more than 2 200 customers on energy, power grid, water & infrastructure projects.Our mission is to provide innovative services critical to society, unlocking a cleaner, better and more profitable future. Working towards this goal, Volue has become a leading technology supplier and enabler of the green transition, helping energy companies simplify and optimize everyday operations.We are now looking for Mid/Senior Software Engineer (Mesh Team), who can help us to continuously improve Volue’s ability to provide value to customers in line with the Volue mission. Volue Mesh is a data management system based on object modelling with an integrated time series calculation engine. It is used for more efficient managing of time series data and related information used in different work processes and serves as the core of all future energy production planning and trading solutions.read more Your responsibilities Contribute to all development phases: design, develop, build, deploy and maintain the C++ codebase of Volue Mesh Work closely together with architects, domain experts and backend developers Create and maintain user friendly solutions with clear APIs with efficient resource usage and high performance Work in an international environment, where English is the spoken and written language. The team is distributed in Gdańsk and Trondheim Work in a distributed team with a flexible work-from-home policy Work closely with data intensive applications that are using Mesh and Time Series Management systems to simplify complex workflows show all (7) Job details Online recruitment Recruitment language: Polish&English Start ASAP Permanent contract Remote days: flexible in a week Flexible hours Relocation package: 6000 PLN Perks in the office Free snacks Free coffee Free beverages Gym Canteen Bike parking Playroom Shower No dress code Benefits Sport subscription Life & group insurance Private healthcare English classes Training budget Flat structure Small teams International projects\"\n",
    "jobOffer = \"\"\"city: London,\\\n",
    "    job-type: [Data Scientist, AI Software Engineer],\\\n",
    "    monthly-earnings: [1500 usd, 8000 usd],\\\n",
    "    skills: [fast learning, reading complicated documentation,\\ \n",
    "        creating clean data representation, data analysis],\\\n",
    "    benefits: [flexible hours, remote, health-insurance],\\\n",
    "    technology: [linux -medium, python -advanced, pytorch -advanced, matlabplot -beginner,\\\n",
    "    stable diffusion -beginner, vsc -advanced],\\\n",
    "    languages: [English C1, Polish C1]\"\"\"\n",
    "    \n",
    "jobOffer2 = \"\"\"\\\n",
    "    \"Tools developer (Javascript, Java)  Borealis Engineering Solutions  Category:  Fullstack ,\\u00a0 JavaScript  Mid Must have Java\\n JavaScript\\n Design Patterns\\n CI\\n Git\\n Maven\\n Jenkins\\n UI\\n English (C2)Nice to have C\\n C++\\n Eclipse\\n Requirements description \\nBSc or MSc in Electrical Engineering or Computer Science or similar with 5+ years of experience in software development\\nJava programming language knowledge\\nJavascript programming language knowledge\\nGood working knowledge of object-oriented design and design patterns\\nStrong knowledge of with version control and CI tools (GIT, Maven, Jenkins).\\nStrong analytical and communication skills\\nGood comand in english, both written and oral communication\\n\\nThe following qualifications will be considered a plus:\\n\\nExperience with Vue.js and Quasar or other front end UI developer frameworks.\\nExperience with Eclipse RCP (Rich Client Platform) development.\\nFamiliar with Eclipse plug-in development across multiple operating systems\\n\\nThe following qualifications will be considered nice to have:\\n\\nC/C++ programming expertise\\nKnowledge of embedded software development and debug practices.\\nExperience working with open source communities and projects.\\nKnowledge of PDE builds.\\nExperience working in an Agile/Scrum environment\\n Offer description Our partner is a key player in home automation, IoT and wireless technologies. As the leading provider of silicon, software, and solutions for a smarter, more connected world they offer full stack wireless connectivity technologies and a wide range of products. Budapest R&D center is tightly coupled with global research activities and integrated into the mainstream development areas.Your responsibilities In this role, you will create innovative software solutions and state-of-the-art development and hardware simulation tooling for multiple platforms.  \\tDesign, implement, and unit test features and applications  \\tUtilize innovative approaches to problem solving.  \\tPerform design and code reviews  Job details\\n Online recruitment   Recruitment language: Hungarian&English   Start ASAP   Permanent contract   Paid holiday for: Employment contract    Remote for 2 days a week   Flexible hours   Equipment supplied\\n Computer: Notebook  Methodology\\n Agile management Scrum, Kanban, Agile Issue tracking tool  Version control system GIT Build server Jenkins Perks in the office\\n Free coffee  No dress code  In-house trainings  Benefits\\n International projects  Small teams\"\"\"\n",
    "    \n",
    "jobOffer3 = \"\"\"\n",
    "    Junior JavaScript Developer  4 The Player  Category:  Frontend ,\\u00a0 JavaScript  Junior Must have JavaScript\\n HTML\\n OOP\\n Git\\n C#\\n TypeScript\\n Polish  English Nice to have Webpack\\n CSS\\n Requirements description Optional:\\n\\nPixi.js\\nTeam player\\nCommunication skills\\nnode.js\\nhowler.js\\nAttention to detail\\nBeing able to deal with the pressure\\nWilling to learn\\n Offer description We are looking for an awesome JavaScript Game Developer to join our new remote games development team. 4ThePlayer.com is an up-and-coming creator of online gambling games (slots, table games and others). The company was founded in 2018 by two luminaries of the gambling gaming industry, Chris Ash and Andrew Porter, who have a combined 40 years of gaming industry experience. 4ThePlayer has been tipped for significant success, shortlisted to industry awards (EGR Awards) and rapidly increasing our reputation for a forward-thinking approach to game design. We are on track for exponential growth and to become an industry leader.Your responsibilities Creating games using high-quality code in JavaScript/HTML5  Implement animations, effects, and particle systems  Identify and resolve development problems  Collaborate with developers, graphic artists, audio and QA team  Job details\\n Online recruitment   Recruitment language: English&Polish   Start ASAP   Permanent contract   Paid holiday for: B2B    Fully remote   Flexible hours   No travel involved   Mainly new features   Mo\\u017cliwo\\u015b\\u0107 negocjacji wynagrodzenia: Tak   Equipment supplied\\n Windows  Computer: As you wish :)  As you wish :)  Methodology\\n Agile management Agile Issue tracking tool Jira, Trello, Github Knowledge repository GitHub Code reviews GitHub Version control system GIT Benefits\\n Small teams  International projects  Flat structure  Paid holiday  Fridays slot session  Work in the international team  Professional growth\"\n",
    " \"\"\"\n",
    " \n",
    "jobOffer4 = \"\"\"AI Developer  lemon.io  Category:  AI ,\\u00a0 Python  Senior Must have Python\\n AI\\n Java\\n C++\\n Machine Learning\\n NLP\\n TensorFlow\\n PyTorch\\n Keras\\n Degree\\n SAN\\n English (B2) Requirements description \\nMinimum of 3 years of proven experience in applying AI to practical technology solutions\\nSolid understanding of common programming languages used in AI, such as Python, Java, C++, and R\\nHands-on experience in machine learning/NLP/deep learning/computer vision\\nExperience with TensorFlow/Caffe/PyTorch/Keras/Scikit Learn/Theano\\nExperience working with large data sets and writing efficient code capable of processing large data streams at speed\\nStrong analytical skills for designing and implementing machine learning models, analyzing data sets, and identifying patterns and trends\\nFamiliarity with Cloud environments\\nBachelor\\u2019s/Master\\u2019s degree in computer science, data science, software development, or another related field would be a plus\\nCreative mindset to develop innovative solutions to complex problems and challenges in AI development\\nProblem-solving skills to identify and solve complex problems using AI techniques\\nCommitment to continuous learning and keeping up with the latest advancements in AI technology and techniques.\\nGood command of English, both written and spoken, as you\\u2019ll be communicating with clients directly\\nStrong organizational skills \\u2014 ability to work full-time remotely with no supervision\\nResponsibility \\u2014 we want to trust you\\nSoft skills \\u2014 we value clear and effective communication, at the same time don't force you becoming a public speaker\\n\\nReady to take your career to the next level? Apply now and join the Lemon.io family!\\nIf your experience matches with our requirements be ready for the next steps:\\n\\nVideoAsk (about 10 minutes)\\nCompleting your me.lemon profile\\n30 minutes Screening call with our Recruiters\\nTechnical Interview with our Developers\\nFeedback\\nMagic Box (we are looking for best project for you)\\n\\nP.S. We work with developers from LATAM, Canada, UK, Europe BUT we have some exceptions.\\nAt the moment, we don\\u2019t have a legal basis to accept applicants from Monaco, Belarus, Russia, Serbia, Denmark, Norway, Luxemburg, Iceland, Liechtenstein, San Marino, Belize, Cuba, Nicaragua, Saint Lucia, so we don\\u2019t work with applicants from these countries. Offer description Are you a talented developer looking for a remote job that lets you showcase your skills while also enjoying better compensation and career growth? Look no further than Lemon.io, the marketplace that connects you with hand-picked startups in the US and Europe.\\nYou'll love working with us, because:\\n\\nWe understand that respecting your time is key to your success, which is why we connect you with teams that won't micromanage or require time trackers.\\nYou can earn $5k - $10k monthly\\u00a0(the rate may differ due to skill and/or level of experience), and we've already paid out over $10M to our engineers.\\nWith flexible working hours and the ability to work asynchronously, you can choose a schedule that works best for you.\\nSay goodbye to project managers, and hello to direct communication with clients. Most of them have technical backgrounds. Sounds good, yeah?\\nNo more hunting for clients or negotiating rates - let us handle the business side of things so you can focus on what you do best.\\nEnjoy the fast-paced startup environment that will keep you motivated and engaged.\\nPass the interviews now and start working when you're ready - even if that's a few months down the line.\\nWe'll manually find you the best project to match your skills and preferences.\\nConnect with the best developers in the world through our community.\\n Job details\\n Recruitment language: English   Start ASAP   Permanent contract   Paid holiday for: Employment contract    Fully remote   Flexible hours   Equipment supplied\\n Linux  Apple  Windows  Methodology\\n Agile management  Issue tracking tool\"\"\""
   ]
  },
  {
   "cell_type": "code",
   "execution_count": 6,
   "metadata": {},
   "outputs": [],
   "source": [
    "queryRank = \"\"\"Please, process given job offer and in the answer put an \\\n",
    "    header: \"Verdict: match-level\", where match levels are:\\\n",
    "    [Not appropriate, Acceptable, Ok, Super]. Chosen level shall depend on this how well given job \\\n",
    "    offer matches client job qualifications and preferences.\n",
    "    \n",
    "    Instructions:\n",
    "    If client's job qualifications and preferences are very close or identical to job's profile and requirements return 'Super'\n",
    "    For example if you see that client is senior data scientist and job offer is related to senior data scientist return 'Super' \n",
    "    \n",
    "    If client's job qualifications and preferences matches with at least half of job profile and requirements return 'Ok'.\n",
    "    \n",
    "    If client's job qualifications and preferences somewhat meet job's important requirements \\\n",
    "    and profile return 'Acceptable'. For example One third of job's requirements are met mean that you should return 'Acceptable'\n",
    "    \n",
    "    If client's job qualifications and preferences mostly do not meet job's important requirements \\\n",
    "    and profile return 'Not Appropriate'\n",
    "    \n",
    "    \n",
    "    job offer: \n",
    "    {jobOffer}; \\\n",
    "    client's job qualifications and preferences:\n",
    "    {personalData};\\\n",
    "    \"\"\"\n",
    "\n",
    "promptRank = PromptTemplate(template=queryRank, input_variables=[\"jobOffer\", \"personalData\"])\n",
    "\n",
    "chainRank = LLMChain(llm=llm, prompt=promptRank, output_key='Verdict')"
   ]
  },
  {
   "cell_type": "code",
   "execution_count": 7,
   "metadata": {},
   "outputs": [],
   "source": [
    "desc = \"\"\"\n",
    "    You will be given 3 things:\n",
    "    1. Job offer\n",
    "    2. Client's job qualifications and preferences\n",
    "    3. Recruiters' verdict ('Not appropriate' or 'Acceptable' or 'Ok' or 'Super')\n",
    "\n",
    "    Describe a rationale behind recruiters' verdict. Find argument for why this verdict was given for this candidate and job offer. \\\n",
    "    Your description should be brief and should not exceed 3 sentences. Thy to make that decription more like a brief comment.\n",
    "    \n",
    "    If Recrutier's verdict is 'Not appropriate':\n",
    "    Just say nothing, your response cannot contain any words and signs.\n",
    "    \n",
    "    If Recrutier's verdict is 'Acceptable':\n",
    "    In brief words write a comment that will describe why job offer might be ok for clients qualifications and preferences.\n",
    "    Do not exceed 3 sentences. Do not be too enthustiastic, mention what qualifications or preferences are not met. \n",
    "    Thy to make that decription more like a brief comment. Do not mention explicitly an information that job offer is Acceptable, because\n",
    "    client already knows that.\n",
    "    \n",
    "    If Recrutier's verdict is 'Ok':\n",
    "    In brief words write a comment that will describe why job offer is ok choice for clients qualifications and preferences.\n",
    "    Do not exceed 3 sentences. Write what requirements are not met. Thy to make that decription more like a brief comment.\n",
    "    Do not mention explicitly an information that job offer is Acceptable, because\n",
    "    client already knows that.\n",
    "    \n",
    "    If Recrutier's verdict is 'Super':\n",
    "    In brief words write a comment that will describe why job offer is ok choice for clients qualifications and preferences.\n",
    "    Do not exceed 3 sentences. Write that that job is perfect for the client, be very enthustiastic. \n",
    "    Thy to make that decription more like a brief comment.\n",
    "    Do not mention explicitly an information that job offer is Acceptable, because\n",
    "    client already knows that.\n",
    "\n",
    "    Job Offer:\n",
    "    {jobOffer}\n",
    "    Candidate's job qualifications and preferences:\n",
    "    {personalData}\n",
    "    Recruiters' verdict:\n",
    "    {Verdict}\n",
    "    \"\"\"\n",
    "\n",
    "desc_prompt = PromptTemplate(template=desc, input_variables=[\"jobOffer\", \"personalData\", \"Verdict\"])\n",
    "\n",
    "# desc_prompt = PromptTemplate(\n",
    "#     template=desc_template,\n",
    "#     input_variables=[\"Verdict\", \"jobOffer\", \"personalData\"],\n",
    "# )\n",
    "\n",
    "chainDescription = LLMChain(llm=llm, prompt=desc_prompt, output_key='Description')"
   ]
  },
  {
   "cell_type": "code",
   "execution_count": 8,
   "metadata": {},
   "outputs": [],
   "source": [
    "overall_chain = SequentialChain(\n",
    "    chains=[chainRank, chainDescription],\n",
    "    input_variables=[\"jobOffer\", \"personalData\"],\n",
    "    output_variables=[\"Verdict\", \"Description\"],\n",
    "    verbose=True\n",
    ")"
   ]
  },
  {
   "cell_type": "code",
   "execution_count": 9,
   "metadata": {},
   "outputs": [],
   "source": [
    "# result = overall_chain({'jobOffer': jobOffer, 'personalData': personalData})\n",
    "\n",
    "# result['Verdict']\n",
    "# result['Description']"
   ]
  },
  {
   "cell_type": "code",
   "execution_count": 10,
   "metadata": {},
   "outputs": [],
   "source": [
    "# result2 = overall_chain({'jobOffer': jobOffer2, 'personalData': personalData})\n",
    "\n",
    "# result2['Verdict']\n",
    "# result2['Description']"
   ]
  },
  {
   "cell_type": "code",
   "execution_count": 11,
   "metadata": {},
   "outputs": [],
   "source": [
    "# result3 = overall_chain({'jobOffer': jobOffer3, 'personalData': personalData})\n",
    "\n",
    "# result3['Verdict']\n",
    "# result3['Description']"
   ]
  },
  {
   "cell_type": "code",
   "execution_count": 12,
   "metadata": {},
   "outputs": [],
   "source": [
    "# result4 = overall_chain({'jobOffer': jobOffer4, 'personalData': personalData})\n",
    "\n",
    "# result4['Verdict']\n",
    "# result4['Description']"
   ]
  },
  {
   "cell_type": "code",
   "execution_count": 13,
   "metadata": {},
   "outputs": [],
   "source": [
    "from langchain.document_loaders import TextLoader\n",
    "from langchain.embeddings.openai import OpenAIEmbeddings\n",
    "from langchain.embeddings import HuggingFaceEmbeddings\n",
    "from langchain.vectorstores import Chroma\n",
    "import pandas as pd\n",
    "\n",
    "\n",
    "data = pd.read_json('../data/all_offers_with_desc_pruned.json', orient='index')['Description'].reset_index(drop=True)\\\n",
    "    .sample(frac=1).to_list()\n",
    "\n",
    "db = Chroma.from_texts(data, HuggingFaceEmbeddings())"
   ]
  },
  {
   "cell_type": "code",
   "execution_count": 14,
   "metadata": {},
   "outputs": [
    {
     "data": {
      "text/plain": [
       "[\"Project Manager  OKO.press  Category:  Project Manager  Mid Must have Project management\\n Jira\\n Asana\\n Polish  English Nice to have Team management\\n Risk managment\\n GTM\\n podstawy SQL\\n podstawy JS\\n Requirements description  Original text.\\xa0  Show translation \\ndoświadczenie w zarządzaniu projektami IT/digital/marketing\\numiejętność przełożenia wymagań biznesowych na język techniczny i odwrotnie;\\nznajomość zwinnych metodyk prowadzenia projektów;\\numiejętność korzystania z narzędzi do prowadzenia projektów, takich jak Jira i Asana;\\numiejętność równoczesnej pracy nad kilkoma projektami i skuteczne zarządzanie priorytetami;\\numiejętność wykrywania przyczyn spowalniających procesy;\\nzdolność budowania relacji i prowadzenia skutecznej komunikacji;\\nasertywność i zdolności negocjacyjne;\\nwięcej niż podstawowe umiejętności w posługiwaniu się Google spreadsheet'smile widziane:\\nznajomość GA4, GTM, SuperMetrics, SalesForce\\npodstawy SQL, JS\\nznajomość rozwiązań CDP\\numiejętność poprawnia określonych wskaźników wydajności zespołu\\ndoświadczenie w digital marketingu\\ndoświadczenie z User Story Mapping\\ncertyfikaty metodyk zarządzania projektami\\n Offer description  Original text.\\xa0  Show translation OKO.press to pionierski projekt dziennikarski o masowym zasięgu (miliony UU miesięcznie). Jesteśmy obywatelskim narzędziem kontroli władzy, zarówno obecnej, jak i każdej następnej. Jako Project Manager będziesz odgrywać kluczową rolę w naszej organizacji, zapewniając skuteczne planowanie, koordynację i realizację projektów związanych z rozwojem IT i marketingu. Będziesz odpowiedzialny/a za nadzór nad rozwojem serwisów, narzędzi marketingowych oraz testów, a także za współpracę i koordynację zespołów na styku marketingu i IT. Twoje zadania będą obejmować także zbieranie i analizę wymagań biznesowych i technicznych, przygotowywanie dokumentacji projektowej oraz raportowanie postępów prowadzonych projektów. Jesteśmy dynamiczną i zaangażowaną organizacją, która dąży do tworzenia wysokiej jakości treści dziennikarskich. Jeśli jesteś gotowy/a na wyzwania, chcesz być częścią projektu o dużej widoczności i wkładzie społecznym, mieć realy woływ na polskie media to jest miejsce dla Ciebie. Przyłącz się do nas i pomóż kształtować przyszłość dziennikarstwa obywatelskiego!Your responsibilities Original text.\\xa0  Show translation  Planowanie i realizacja projektów marketingowych zgodnie z ustalonymi priorytetami.  Zbieranie i analiza wymagań biznesowych i technicznych oraz przygotowanie dokumentacji projektowej.  Koordynacja prac związanych z rozwojem serwisów, narzędzi marketingowych i testów.  Wsparcie i koordynacja zespołu developerów.  Koordynacja zespołów na styku marketingu i IT  Raportowanie postępów prowadzonych projektów.  show all (10) Job details\\n Online recruitment   Recruitment language: Polish   Start ASAP   Permanent contract   Paid holiday for: Employment contract    Remote days: flexible in a week   Flexible hours   Equipment supplied\\n Apple  Windows  Computer: Notebook  Monitors: One  Methodology\\n Agile management Agile Issue tracking tool Jira Knowledge repository Confluence, Gdocs Freedom to choose tools  Perks in the office\\n Free coffee  Bike parking  Shower  Startup atmosphere  No dress code  Dodatki do pracy zdalnej  Benefits\\n Sport subscription  Flat structure  Small teams  Turkusowe zarządzanie  Rodzinna atmosfera  Training budget\",\n",
       " 'Business Development Manager  Integral Solutions Sp. z o.o.  Category:  Sales  Mid Must have English (B2)Nice to have Data management\\n Azure\\n AWS\\n Google Cloud\\n Snowflake\\n Ukrainian (B2) Requirements description  Original text.\\xa0  Show translation Doświadczenie w sprzedaży rozwiązań IT, mile widziane z obszaru BI/analityki biznesowejMile widziane doświadczenie w sprzedaży rozwiązań działających w środowisku Cloud,Samodzielność w prowadzeniu procesów sprzedażowych,Kompetencje negocjacyjne,Komunikatywność i pozytywne nastawienie,Umiejętność dobrego zarządzanie czasem i priorytetami,Silna orientacja na realizację celów,Bardzo dobra znajomość języka angielskiego i ukraińskiego/rosyjskiego (mile widziana) Offer description  Original text.\\xa0  Show translation Integral Solutions, Informatica Platinum Partner Enterprise,\\xa0 od ponad 20 lat dostarcza nowoczesnerozwiązania IT dla biznesu, oferując usługi m.in. w zakresie integracji danych, Data Engineering (Big Data) orazData Governance. Oferowane przez firmę narzędzia pozwalają zarządzać danymi w pełnym zakresie: odutrzymania i opieki nad danymi, poprzez przetwarzanie, poprawę jakości, integrację i dystrybucję danychpomiędzy systemami i aplikacjami, aż do ich archiwizacji.Do grona naszych Klientów należą największe polskie banki, firmy ubezpieczeniowe, telekomunikacyjne,farmaceutyczne, sieci detaliczne i inne.\\nW związku z aktywnym rozwojem firmy, poszukujemy dynamicznej osoby, która dołączy do zespołu sprzedażychmurowych rozwiązań Informatica\\xa0 na stanowisku:\\nBusiness Development Manager\\nOferujemy:\\n\\nPraca w dynamicznie rozwijającej się firmie, wśród profesjonalistów w obszarze zarządzania danymi,\\nMożliwość rozwoju swoich kompetencji sprzedażowych w technologiach Cloud Computing,\\nZatrudnienie na kontrakt lub umowę o pracę,\\nWynagrodzenie podstawowe + premia uzależniona od realizacji celów sprzedażowych,\\nNiezbędne narzędzia pracy,\\nDodatkowe benefity z systemu MyBenefit,\\nPrzyjazna atmosfera pracy,\\nDuża swoboda w podejmowaniu decyzji,\\nBiuro w samym centrum Warszawy,\\nPraca hybrydowa (do 2 dni zdalnie)\\nYour responsibilities Original text.\\xa0  Show translation  Rozwój biznesu i pozyskiwanie nowych Klientów,  Budowanie długotrwałych relacji biznesowych,  Rozpoznawanie i definiowanie potrzeb Klientów,  Oferowanie dedykowanych rozwiązań we współpracy z zespołem wsparcia sprzedaży,  Przygotowywanie i prezentowanie ofert handlowych,  Realizacja wyznaczonych celów sprzedażowych,  show all (7) Job details\\n Online recruitment   Recruitment language: English   Start ASAP   Permanent contract   Remote for 2 days a week   Equipment supplied\\n Windows  Computer: Notebook  Methodology\\n Reporting to Sales Director Team size 1-5 Client B2B Company car  Working hours 9:00 - 17:00 Perks in the office\\n Free coffee  Bike parking  Shower  Free beverages  Mobile phone  Benefits\\n Private healthcare  Sport subscription  Company car',\n",
       " 'Senior Fullstack Engineer / Team Leader  Ringier Axel Springer Tech  Category:  Fullstack ,\\xa0 JavaScript  Senior Must have HTML\\n CSS\\n JavaScript\\n TypeScript\\n React\\n Node.js\\n Microservices\\n English (B2) Polish (B2)Nice to have AWS\\n Requirements description The ideal candidate:\\n\\nhas excellent proficiency in HTML and CSS to effectively create the structure, layout, and styling of web pages\\nhas strong skills in JavaScript and Typescript programming languages\\nis familiar with the React framework, as well as Redux, and a great understanding of front-end development\\nhas knowledge of server-side development in Node.js and the ability to build microservices in an AWS environment\\ncan integrate websites with databases and external APIs, with efficiency in work with GraphQL.\\nstays up to date with web standards, accessibility guidelines, and industry best practices to ensure websites are developed following recommended principles for usability, performance, security, and search engine optimization\\nis proficient in testing and debugging websites, adept at identifying and resolving errors, ensuring cross-browser compatibility, and optimizing website performance\\npossesses strong problem-solving skills and the ability to troubleshoot and debug code effectively\\ndemonstrates a desire to learn and continuously improve his skills\\nenjoys working collaboratively with others, communicating openly, honestly, and respectfully\\nis a team player who actively helps and adds value to others\\nleads by example, promoting cooperation among teammates and colleagues from other teams\\nfocuses on problem-solving and fosters an engaging work environment as a leader\\nexhibits a client-centric attitude, open to listening and addressing client needs\\xa0\\n Offer description We are a team developing popular Swiss magazines such as Beobachter, Guider, Handelszeitung, Schweizer-Illustrierte, cash.ch and Gault & Millau. We make the digital transformation of the title with over 100 years of history cooperating on daily basis with our colleagues from Switzerland. Our stack (Node.js, Nest.js, React, TypeScript, GraphQL, AWS, SSR, PWA) is constantly updated to the latest available versions. We work closely with a team of graphic designers to ensure our solutions look good.\\nBy joining us you have the opportunity to meet other enthusiasts, improve skills in innovative technologies and programming techniques. We offer a chance to work and improve in the international environment.We are looking for a full stack senior engineer who is skilled in the web development and has experience in leading the team. Hired person will join an engineer role and team leader role in the team which cooperates closely with our partner from Switzerland.\\nYour responsibilities Write code using front-end technologies such as React and TypeScript  Construct GraphQL queries to retrieve data from the content management system (CMS).  Create Node.js microservices, making use of AWS services  Perform code reviews to ensure code quality and adherence to best practices  Participate in planning sessions to contribute to the determination of product development direction.  Contribute to architecture decisions  show all (13) Job details\\n Online recruitment   Recruitment language: English   Start ASAP   Permanent contract   Paid holiday for: B2B (+1) B2BEmployment contract  Remote days: flexible in a week   Flexible hours   Equipment supplied\\n Apple  Windows  Computer: Notebook  Monitors: If needed  Methodology\\n Integration tests Reasonable coverage Unit tests TDD, 70% coverage Agile management Scrum, Agile Issue tracking tool Jira Knowledge repository Confluence, GitHub Code reviews Bitbucket Pair programming  Static code analysis Sonar Version control system GIT Build server  Freedom to choose tools  Perks in the office\\n Free coffee  Gym  Canteen  Bike parking  Playroom  Shower  Mobile phone  In-house trainings  In-house hack days  Modern office  Startup atmosphere  No dress code  Benefits\\n International environment  Sport subscription  Training budget  Private healthcare  Flat structure  Small teams  International projects  Masterclazz training',\n",
       " 'Technical Product Owner  XTB  Category:  Product Management  Mid Must have Communication skills\\n Leadership skills\\n Scrum\\n Product management\\n C++\\n Java\\n Confluence\\n Jira\\n Self-started attitude\\n Polish  English Nice to have Finance instruments area\\n Trading experience\\n Requirements description  Original text.\\xa0  Show translation \\nMin. 3-letnie doświadczenie w obszarze product management w projektach backendowych - warunek konieczny\\nZnajomość trendów nowych technologii, szczególnie technologii backendowych (C++, Java)\\nDoświadczenie w zarządzaniu kilkunastoosobowym, wielofunkcyjnym zespołem\\nDoświadczenie w tworzeniu wymagań biznesowych, product requirements documentation oraz ich egzekucji wraz z zespołem produktowym\\nUmiejętność analizy danych oraz analityczne podejście do budowy produktów\\nWysoka niezależność, samodzielność (self-started attitude)\\nDoświadczenie w agile software development\\nKreatywność\\nBiegła znajomość języka angielskiego\\nMile widziane doświadczenie związane z tradingiem\\n Offer description  Original text.\\xa0  Show translation Poszukujemy Technical Product Ownera do jednego z teamów backendowych. Jako Product Owner będziesz odpowiadać za rozwój produktu we współpracy z wielofunkcyjnym zespołem. Będziesz pracować z ekspertami w dziedzinach inżynierii oprogramowania oraz biznesu, ze wspólnym celem nieustannego dostarczania wartości i rozwoju globalnej aplikacji dla inwestorów. Będziesz mieć możliwość bezpośredniego wpływu na kształtowanie wizji, strategii oraz roadmapy produktowej w naszej organizacji, tym samym wpływając na trading experience setek tysięcy inwestorów na całym świecie.\\nOferujemy:\\n\\nPracę w dynamicznie rozwijającym się projekcie realizowanym w obszarze globalnego rynku finansowego\\nWspółpracę z doświadczonymi Managerami i Product Ownerami\\nRzeczywisty wpływ na tworzenie naszych autorskich produktów IT\\nDużą samodzielność i możliwości rozwoju kompetencji biznesowych i technicznych\\nBudżet szkoleniowy\\nPakiet świadczeń pozapłacowych\\n Job details\\n Online recruitment   Recruitment language: Polish   Start ASAP   Permanent contract   Paid holiday for: Employment contract    Fully remote   Flexible hours   No travel involved   Equipment supplied\\n Windows  Computer: Notebook  Monitors: If needed  Methodology\\n Agile management Scrum, Agile Knowledge repository Confluence Issue tracking tool Jira Perks in the office\\n Free coffee  Free beverages  Playroom  No dress code  Modern office  Bike parking  Shower  In-house trainings  Startup atmosphere  Fresh fruit every week  Benefits\\n Sport subscription  Private healthcare  Training budget  Small teams  English learning platform  Mentoring from Senior Managers and Product Owners',\n",
       " 'ServiceNow Project Manager  Enloyd  Category:  Product Management  Senior Must have ServiceNow\\nNice to have SQL\\n ITIL\\n JavaScript\\n English (C1) Hungarian (NATIVE) Requirements description  Original text.\\xa0  Show translation \\nPartnerünk egy globális, világszerte 30+ ezer főt foglalkoztató, újrahasznosítással és megújuló energiával foglalkozó vállalat. Bővülés és új projektek indítása miatt keresnek olyan kollégát ServiceNow Project Manager pozícióba, aki az új modulok implementálását koordinálná, és az ületi területek, illetve a fejlesztést végző külsős partner között tartaná a kapcsolatot.\\n Offer description  Original text.\\xa0  Show translation Amit az Ügyfelünk kínál:\\n\\nTapasztalati szint függvényében kb. bruttó 1,5-1,7M HUF/hó alapbér;\\nRendszeres bérkiegészítő elemek és karácsonyi bónusz;\\nTeljesítményfüggő prémium, ami az éves bér 8-9%-a;\\nCafetéria csomag és magánegészségügyi ellátás;\\nSzakmai képzések és tréningek támogatása, lehetőség certificate-ek megszerzésére;\\nRugalmas munkaidő;\\nKarrierút és előrelépési lehetőségek a cégen belül;\\nÉvente 1-2 alkalommal üzleti út a skandináv HQ-ba.\\n\\nYour responsibilities Original text.\\xa0  Show translation  2-4 év ServiceNow fejlesztésben szerzett tapasztalatoddal magabiztosan hozzá tudsz járulni az új modulok (OT, HR, finance irányok) implementálásához és le tudod követni a megvalósítást az ötlettől a bevezetésig;  Segíteni fogsz a ServiceNow modulok, alkalmazások és egyedi funkciók tervezésében és megvalósításában, emellett kulcsszerepet fogsz játszani a ServiceNow projektek és fejlesztési igények megvalósításában;  Csapatjátékos attitűdöddel könnyen be tudsz illeszkedni a nemzetközi, 8 fős ServiceNow csapatba, akik a teljes platformért felelősek a vállalatban;  Segítségedre lehet, ha rendszeresen követed a ServiceNow új funkcióit és jól ismered a modulok közti összefüggéseket, hogy tudj technikai döntéseket is meghozni az új modulok fejlesztése és implementálása kapcsán;  Jó, ha rendelkezel ServiceNow fejlesztői háttérrel, hogy értsd az architektúrát, de fejlesztened nem kell az Ügyfelünknél, azt egy külsős parterük végzi, akikkel a kapcsolatot fogod tartani, ennek ellenére JavaScript, SQL ismeretek és ITIL jártasság az előnyödre válhat;  Konfigurációk és sztenderdiálások koordinálásában, illetve technikai megvalósítások validálásban számítanak még a segítségedre;  show all (7) Job details\\n Online recruitment   Recruitment language: Hungarian&English   Start ASAP   Permanent contract   Paid holiday for: Employment contract    Fully remote   Flexible hours   Some travel involved   Equipment supplied\\n Linux  Apple  Windows  Computer: Notebook  Monitors: If needed  Methodology\\n Agile management  Issue tracking tool  Main tools ServiceNow Team size 6-10 Freedom to choose tools  Perks in the office\\n In-house trainings  In-house hack days  No dress code  Modern office  Benefits\\n Training budget  Private healthcare  International projects',\n",
       " 'Senior / III Fullstack Software Engineer  Box Inc.  Category:  Fullstack ,\\xa0 Java  Mid Must have Java\\n Node.js\\n React\\n English Nice to have Google Cloud Platform\\n Docker\\n Kubernetes\\n Requirements description Who you are:\\n\\n3-4+ years of professional software development experience\\nBe proficient in Java and knowledge of software design principles\\nPrior experience with NodeJS, and/or React\\nInterest in security topics (authentication, identity, industry best practices, etc.)\\nAssess, communicate and complete project milestones with manager and team members in a time sensitive manner\\nMust speak English proficiently\\xa0\\nPreferred Skills:\\n\\nPrior experience in the security domain\\nLeading cross functional projects\\nCoaching and developing management bench in the team\\nPrior experience with Google Cloud Platform and Docker/Kubernetes\\n\\n\\n Offer description **Our compensation structure is the base salary and equity in the form of restricted stock units.\\nFullstack Software Engineer III\\nSenior Fullstack Software Engineer\\nWHAT IS BOX?\\xa0Box is the market leader for Cloud Content Management. Our mission is to power how the world works together. Box is partnering with\\xa0enterprise organizations to accelerate their digital transformation by creating\\xa0a single\\xa0platform for secure content management, collaboration and workflow.\\xa0We have an amazing opportunity to further establish ourselves as leaders in the space, and we need strong advocates to help us achieve that goal.\\xa0\\nBy joining Box, you will have the unique opportunity to help capture a majority of this developing market and define what content management looks like for the digital enterprise. Today, Box powers 100,000+ businesses, including many top Fortune 500 companies who trust our secure collaboration platform to manage the entire content lifecycle.Our Warsaw office is an incredibly exciting addition to our EMEA expansion. We\\'re already in UK, France, and Germany, and the new Poland location will act as a global engineering and product development hub alongside our headquarters in Redwood City, California.\\nWhy Box needs you:\\nAs a Senior Fullstack Engineer on the Security Projects team, you’ll be part of a team responsible for ensuring Box’s security posture stays best-in-class. You will interact with multiple teams and technologies to continuously improve security for our end users, administrators, and Boxers (what we call ourselves). This role offers a unique opportunity to work on a rotating set of projects that will increase your knowledge and exposure across the company. As the security landscape continues to evolve, you will work closely with our Global Security Office and multiple Product & Engineering teams to deliver seamless, secure experiences for Box customers around the world.\\nPercentage of Time Spent:\\n\\n70% coding\\n10% documentation\\n10% technical investigation\\n10% meetings\\n\\nEQUAL OPPORTUNITY\\xa0We are an equal opportunity employer and value diversity at our company. We do not discriminate on the basis of race, religion, color, national origin, gender, sexual orientation, age, marital status, veteran status, disability, and any other protected ground of discrimination under applicable human rights legislation\"For details on how we protect your information when you apply, please see our\\xa0Personnel Privacy Notice.For more details on how Box Poland protects your information, please see our\\xa0Supplemental Personnel and Candidate Privacy Notice.\\xa0Your responsibilities Attend and engage in weekly stand ups, team meetings, manager 1:1s  Work collaboratively with other engineers, team members and across teams   Play a role in developing and fostering Box culture in the newly created office  Represent Box Poland internally and externally  Job details\\n Online recruitment   Recruitment language: Polish&English   Start ASAP   Permanent contract   Paid holiday for: Employment contract    Remote days: flexible in a week   Flexible hours   Equipment supplied\\n Apple  Computer: Notebook  Monitors: If needed  Methodology\\n Agile management Scrum Issue tracking tool Jira Knowledge repository GitHub Code reviews GitHub Version control system GIT Perks in the office\\n Free lunch in the office  Free coffee  Free beverages  No dress code  Great atmosphere of collaboration  Modern office in the heart of Warsaw  Benefits\\n Creative tax  Stock options  Life & group insurance  Private healthcare  Udemy for business  Phone reimbursement  Sport/fitness reimbursement  International projects  Flat structure  Friendly atmosphere  Additional holidays  Inclusive culture  Developental events  No probation period  Sport subscription',\n",
       " 'Line Manager  Angry Nerds  Category:  HR  Senior Must have Slack\\n MS Office\\n Jira\\n Azure DevOps\\n Polish (NATIVE) English (B2) Requirements description  Original text.\\xa0  Show translation \\n2 lata w branży IT jako Team/Line Manager,\\nZnajomość branży IT - dobre zrozumienie procesu wytwarzania oprogramowania,\\nZnajomość języka angielskiego na poziomie min. B2,\\nDoświadczenie w codziennej pracy z narzędziami: Slack/Teams, MS Office, Jira/Azure DevOps,\\nUmiejętności interpersonalne w tym zdolność budowania dobrych relacji,\\nSkuteczna komunikacja i proaktywne podejście do rozwiązywania problemów i konfliktów,\\nUmiejętność udzielania feedbacku,\\nBardzo dobre umiejętności organizacyjne i wielozadaniowość,\\nUmiejętności networkingu i organizacji współpracy w formie zdalnej,\\nInicjatywa i chęć dzielenia się wiedzą.Docenimy również:\\xa0\\n\\n\\nDoświadczenie w pracy w Software House.\\xa0\\n\\n\\n\\n Offer description  Original text.\\xa0  Show translation Hej! Jesteśmy\\xa0Angry Nerds\\xa0i zapraszamy Cię do naszego świata apek mobilnych i webowych! Kilka słów o nas:\\xa0Software House\\xa0z Wrocławia |\\xa07 lat\\xa0na rynku | ok.\\xa0100 osób\\xa0na pokładzie |\\xa0545\\xa0zrealizowanych projektów.\\xa0\\nObecnie do naszego zespołu poszukujemy Line Managera,\\xa0który będzie opiekował się i wspierał naszych pracowników oraz współpracował i dzielił się swoją wiedzą i doświadczeniem z Delivery oraz Project Managerami.\\nZapewnimy Tobie:\\n\\nPracę w pełni zdalną,\\nElastyczne godziny pracy, dobre dla rannych ptaszków i nocnych marków,\\nSłużbowy sprzęt i budżet na akcesoria,\\nRoczny budżet szkoleniowy,\\nDofinansowanie do pakietu sportowego i opieki medycznej (także przy współpracy w oparciu o kontrakt B2B),\\nBudżet integracyjny,\\nPracę w firmie o płaskiej strukturze, w zgranym zespole Nerdów :)\\nYour responsibilities Original text.\\xa0  Show translation  Dbanie o rozwój pracowników poprzez m. in. koordynowanie ścieżek kariery, zmiany projektów, oceny roczne i regularne rozmowy z pracownikami,   Analizowanie i monitorowanie poziomu satysfakcji pracowników,   Przeprowadzanie regularnych spotkań z pracownikami - w tym również okresowe rozmowy ewaluacyjne - udzielanie feedbacku oraz uczestniczenie w procesie podwyżkowym,   Na bieżąco rozwiązywanie problemów przypisanych mu pracowników - od kwestii pracy w projekcie po wymianę sprzętu,   Analizowanie oraz akceptowanie wniosków, dotyczących wykorzystania budżetu szkoleniowego,   Angażowanie pracowników do wymiany wiedzy oraz nauki poprzez inicjowanie i koordynowanie spotkań community,   show all (10) Job details\\n Online recruitment   Recruitment language: Polish&English   Start ASAP   Permanent contract   Fully remote   Equipment supplied\\n Apple  Windows  Methodology\\n Agile management  Perks in the office\\n Free coffee  No dress code  Benefits\\n Sport subscription  Training budget  Private healthcare  Flat structure  Small teams  International projects  elastyczne godziny pracy  Community meetups  służbowy sprzęt  Friendly atmosphere  Wybór form współpracy  Feedback culture  Life & group insurance  Budżet integracyjny  Budżet na akcesoria  Praca zdalna',\n",
       " \"Senior Fullstack Software Engineer  Remitly  Category:  Fullstack ,\\xa0 React  Senior Must have JavaScript\\n TypeScript\\n React\\n Java\\n PHP\\n Polish  English (B2)Nice to have Golang\\n AWS\\n Kubernetes\\n REST\\n Spring\\n GraphQL\\n Kotlin\\n Requirements description \\n6+ years of software engineering experience\\nExperience building, shipping and maintaining reliable and scalable services on public cloud platforms\\nExperience leading other engineers on large features in collaboration with Product Management and other stakeholders\\nExperience with multiple programming languages, and use of algorithms, data structures, and software design at scale\\nBSc in Computer Science or equivalent work experience.\\n Offer description Remitly is on a mission to transform the lives of immigrants and their families by providing the most trusted financial products and services on the planet. Since 2011, we have been tirelessly delivering on our promises to immigrants sending their hard earned money home.\\xa0Today, we are reimagining international payments at scale and building new products to create deeper relationships with our customers and their loved ones across the globe.\\xa0Join over 2,700 employees across 10 offices who are growing their careers while having a positive impact on people globally.\\nRemitly is registered as a Money Services Business in the U.S., Canada, EU, United Kingdom, Singapore and Australia. Each of these jurisdictions require, among other items, that Remitly maintain a comprehensive Risk and Compliance Program.\\nThe Customer Success Engineering team oversees the customer support experience. We allow our global operations to support our customers' experience to get the help they need, when they need it. As a member of the Customer Success Engineering team, you would be directly responsible for the customer and agent experience, as well as our customer's access to our agents.\\nAs a Software Engineer at Remitly you will build solutions for complex technical and customer problems. You will also work on integrations with vendors and service cloud providers like Salesforce. You will report to the software engineering lead in the Cork office.Your responsibilities Build: Participate in brainstorming, technical design, and implementation of new features with a data-driven and customer-centric viewpoint.  Provide technical leadership: Guide or scale the engineering team through your expertise in technical writing, distributed systems architecture, coding, operational excellence and software development processes.  Be a cultural leader: Be a role model in upholding Remitly's cultural values and use them as a framework to coach other engineers across the team to achieve their full potential.  Be an empathetic partner: Partner with Product Management and other functions to build high-quality features for our users.  Use technologies such as React, JavaScript/TypeScript, Go, PHP, Kotlin, GraphQL, Docker, and Kubernetes to provide excellent solutions to our operations teams and customers.  Job details\\n Online recruitment   Recruitment language: Polish&English   Start ASAP   Permanent contract   Paid holiday for: Employment contract    Remote for 4 days a week   Flexible hours   Some travel involved   Equipment supplied\\n Apple  Computer: Notebook  Monitors: Two  Methodology\\n Unit tests  Agile management  Issue tracking tool Jira Knowledge repository Confluence, GitHub Code reviews GitHub Pair programming  Version control system GIT Build server  Freedom to choose tools  Perks in the office\\n Free coffee  Bike parking  Shower  Free snacks  Free parking  In-house trainings  Modern office  Startup atmosphere  No dress code  Free breakfast  Playroom  Free beverages  In-house hack days  Free lunch  Benefits\\n Stock units  Sport subscription  Training budget  Private healthcare  Lunch card  Small teams  Flat structure  International projects  Stock units employee programme  Unlimited paid time off  Life insurance  Travel insurance\",\n",
       " 'Product Owner  DPDgroup IT Solutions Hungary Kft.  Category:  Product Management  Mid Must have SQL\\n Product documentation\\n Product strategy\\n English (B2)Nice to have SCRUM\\n PHP\\n Java\\n Linux\\n Windows\\n Backend\\n Requirements description  Original text.\\xa0  Show translation Legalább 3 év releváns tapasztalat\\nStratégiai és analitikus gondolkodásmód\\nStabil angol nyelvtudás szóban és írásban egyaránt\\nJó problémamegoldó és önálló munkavégzési képesség\\nJó kommunikációs készség\\nNyitottság az új ismeretek befogadására\\nAsszertív attitűd, konfrontálódási készség\\nElőny, ha:\\nAgilis team-ben dolgoztál\\nValamilyen programozási vagy scriptnyelv (PHP / Java / stb) alap- vagy középszintű ismerete\\nLinux és Windows ismeret\\nJira, Confluence felhasználói ismerete\\nBackend, illetve stabil SQL ismerettel rendelkezel, ami segít a komplex feladatok átlátásában Offer description  Original text.\\xa0  Show translation Francia tulajdonú, budapesti székhelyű, közepes méretű cégünk, Európa egyik legnagyobb futárszolgálata számára nyújt informatikai megoldásokat. Product Owner- ként lehetőséged lesz olyan projekten dolgozni és fejlődni, amely a DPDgroup által történő csomagszállítás informatikai támogatását hivatott ellátni.Your responsibilities Original text.\\xa0  Show translation  Üzleti problémák és technológiai igények feltárása   Productvízió kialakítása   Product roadmap készítés    User strory-k és technológiai task-ok írása   Backlog priorizálása, user storyk véglegesítése a fejlesztő csapattal közösen (Ready for development)   Fejlesztő csapat képviselete   show all (12) Job details\\n Recruitment language: Hungarian   Start ASAP   Permanent contract   Paid holiday for: Employment contract    Remote for 3 days a week   Equipment supplied\\n Linux  Windows  Computer: Notebook  Monitors: Two  Methodology\\n Agile management Scrum Issue tracking tool Jira Perks in the office\\n Free coffee  Bike parking  Playroom  Modern office  No dress code  Benefits\\n Sport subscription  Private healthcare  International projects  Training budget',\n",
       " \"Product Manager  Secret Sauce Partners, Inc.  Category:  Product Management  Mid Must have Product analysts\\n Requirements gathering\\n AB tests\\n Cross-functional\\n Reporting\\n Communication skills\\n English Nice to have eCommerce\\n SQL\\n Agile\\n Requirements description Must-haves\\n\\n3+ years software product management experience\\neCommerce domain or a retail organization experience is a plus\\nProduct analysis experience\\nUnderstanding of business requirements gathering and analysis process\\nExperience with Agile methodologies and tools is desirable\\nSQL skills are a plus\\nBasic familiarity with reporting tools such as Metabase, Redash, New Relic etc. is highly desirable\\nExcellent written, verbal communication and interpersonal skills\\nPassion for serving customers, understanding their needs and delivering in excess of their expectations\\n Offer description As a Product Manager at Secret Sauce Partners, you will have the opportunity to help define components for our services which process and serve large data sets we receive from our partners. Our Services and Data teams are responsible for building, running, and maintaining our services: Fit Predictor, Style Finder, and Outfit Maker.\\nThe services are used to process the data powering our products and provide a scalable way of accessing the data. Our products, powered by data science, are integrated into the largest ecommerce stores in the US and Europe and provide shopping experiences that revolutionize online commerce. This position, reporting to the VP of Product Management, works on design and implementation of various offerings on the Platform.\\nAs part of our team, you will impact our 100 million users and to ensure their happiness.\\nWho you'll be working with\\nYou will work closely with the product, engineering, research and development, account management, and quality assurance teams. You will be responsible for the end to end delivery of the product, enhancements to existing products & processes and day to day support. You will also play a critical role in designing, developing and providing technical guidance to engineers and ensuring project delivery with high quality.\\nYour responsibilities Serve as a voice of the customer and act as a customer experience advocate in considering product decisions that will impact the customer  Meticulously think through every aspect of the overall customer experience, putting users' needs first in the definition of requirements. Continuously seek improvements to the customer experience working with the Engineering team to better drive the business and/or key metrics  Attend regular planning, standup, grooming, review, retrospective meetings  Constantly question and clarify the cross-functional implications of all product decisions and ensure that critical business issues are surfaced and considered  Ensure the product specifications are well understood by the development team  Balance scope of development projects against one another to determine how to make the most efficient use of resources to create the greatest level of value for the company  show all (8) Job details\\n Online recruitment   Recruitment language: English   Start ASAP   Permanent contract   Paid holiday for: B2B (+1) B2BEmployment contract  Fully remote   Flexible hours   No travel involved   Equipment supplied\\n Apple  Computer: Notebook  Monitors: If needed  Methodology\\n Agile management Kanban, Agile Knowledge repository Confluence, GitHub Issue tracking tool Jira Freedom to choose tools  Perks in the office\\n Startup atmosphere  No dress code  Benefits\\n Flat structure  Small teams\"]"
      ]
     },
     "execution_count": 14,
     "metadata": {},
     "output_type": "execute_result"
    }
   ],
   "source": [
    "search_results = db.similarity_search('CEO', k=10)\n",
    "search_results = [doc.page_content for doc in search_results]\n",
    "search_results"
   ]
  },
  {
   "cell_type": "code",
   "execution_count": 15,
   "metadata": {},
   "outputs": [
    {
     "ename": "RuntimeError",
     "evalue": "No active exception to reraise",
     "output_type": "error",
     "traceback": [
      "\u001b[0;31m---------------------------------------------------------------------------\u001b[0m",
      "\u001b[0;31mRuntimeError\u001b[0m                              Traceback (most recent call last)",
      "Cell \u001b[0;32mIn[15], line 1\u001b[0m\n\u001b[0;32m----> 1\u001b[0m \u001b[39mraise\u001b[39;00m\n",
      "\u001b[0;31mRuntimeError\u001b[0m: No active exception to reraise"
     ]
    }
   ],
   "source": [
    "raise"
   ]
  },
  {
   "cell_type": "code",
   "execution_count": null,
   "metadata": {},
   "outputs": [],
   "source": [
    "result = chainRank({\"jobOffer\": jobOffer, \"personalData\": personalData})"
   ]
  },
  {
   "cell_type": "code",
   "execution_count": null,
   "metadata": {},
   "outputs": [],
   "source": [
    "print(result)"
   ]
  },
  {
   "cell_type": "code",
   "execution_count": null,
   "metadata": {},
   "outputs": [],
   "source": [
    "superVerdictTemplate = \"\"\"You are given a job offer and client personal perferences and qualifications. \\\n",
    "    Your task is to briefly, reason why given job offer would be good choice for a client. Be very enthustiastic, \\\n",
    "    try to limit your answer to just two sentences. Write only that reasoning in your answer. \\\n",
    "    Here is job offer: \n",
    "    {jobOffer} \n",
    "    \n",
    "    And here are informations about a client:\n",
    "    {personalData}\"\"\"\n",
    "    \n",
    "okVerdictTemplate = \"\"\"You are given a job offer and client personal perferences and qualifications. \\\n",
    "    Your task is to briefly, reason why given job offer would be ok choice for a client. \\\n",
    "    Try to limit your answer to just three sentences. Tell what might not suit a client in the offer. \\\n",
    "    Write only that reasoning in your answer. \\\n",
    "    Here is job offer: \n",
    "    {jobOffer} \n",
    "    \n",
    "    And here are informations about a client:\n",
    "    {personalData}\"\"\"\n",
    "    \n",
    "acceptableVerdictTemplate = \"\"\"You are given a job offer and client personal perferences and qualifications. \\\n",
    "    Your task is to briefly, reason why given job offer would be ok choice for a client. \\\n",
    "    Try to limit your answer to just three sentences. Tell that job can be hard to get with the client's qualifications or \\\n",
    "    might just not suit the client's preferences. \\\n",
    "    Write only that reasoning in your answer. \\\n",
    "    Here is job offer: \n",
    "    {jobOffer} \n",
    "    \n",
    "    And here are informations about a client:\n",
    "    {personalData}\"\"\"\n",
    "\n",
    "# def transform_func(inputs: dict) -> dict:\n",
    "#     return {\"description\": \"\"} \n",
    "\n",
    "# default_chainsssss = TransformChain(\n",
    "#     input_variables=[\"input\"],\n",
    "#     output_variables=[\"Reasoning\"],\n",
    "#     transform=transform_func\n",
    "# )\n",
    "\n",
    "default_chain = ConversationChain(llm=llm, output_key=\"Reasoning\")\n",
    "\n",
    "prompt_infos = [\n",
    "    {\n",
    "        \"name\": \"Acceptable\", \n",
    "        \"description\": \"Good for describing acceptable job offers based on 2 variables: job_offer and personal_data\", \n",
    "        \"prompt_template\": acceptableVerdictTemplate\n",
    "    },\n",
    "    {\n",
    "        \"name\": \"Ok\", \n",
    "        \"description\": \"Good for describing Ok job offers based on 2 variables: job_offer and personal_data\", \n",
    "        \"prompt_template\": okVerdictTemplate\n",
    "    },\n",
    "    {\n",
    "        \"name\": \"Super\", \n",
    "        \"description\": \"Good for describing super job offers based on 2 variables: job_offer and personal_data\", \n",
    "        \"prompt_template\": superVerdictTemplate\n",
    "    },\n",
    "]\n",
    "\n",
    "destination_chains = {}\n",
    "for p_info in prompt_infos:\n",
    "    name = p_info[\"name\"]\n",
    "    prompt_template = p_info[\"prompt_template\"]\n",
    "    prompt = PromptTemplate(template=prompt_template, input_variables=['personalData', 'jobOffer'])\n",
    "    chain = LLMChain(llm=llm, prompt=prompt, output_key=\"Reasoning\")\n",
    "    destination_chains[name] = chain  \n",
    "    \n",
    "destinations = [f\"{p['name']}: {p['description']}\" for p in prompt_infos]\n",
    "destinations_str = \"\\n\".join(destinations)\n",
    " \n",
    "MULTI_PROMPT_ROUTER_TEMPLATE = \"\"\"Given a raw text input to a \\\n",
    "language model select the model prompt best suited for the input. \\\n",
    "You will be given the names of the available prompts and a \\\n",
    "description of what the prompt is best suited for. \\\n",
    "You may also revise the original input if you think that revising\\\n",
    "it will ultimately lead to a better response from the language model.\n",
    "\n",
    "<< FORMATTING >>\n",
    "Return a markdown code snippet with a JSON object formatted to look like:\n",
    "```json\n",
    "{{{{\n",
    "    \"destination\": string \\ name of the prompt to use or \"DEFAULT\"\n",
    "    \"next_inputs\": string \\ a potentially modified version of the original input\n",
    "}}}}\n",
    "```\n",
    "\n",
    "REMEMBER: \"destination\" MUST be one of the candidate prompt \\\n",
    "names specified below OR it can be \"DEFAULT\" if the input is not\\\n",
    "well suited for any of the candidate prompts.\n",
    "REMEMBER: \"next_inputs\" can just be the original input \\\n",
    "if you don't think any modifications are needed.\n",
    "\n",
    "<< CANDIDATE PROMPTS >>\n",
    "{destinations}\n",
    "\n",
    "<< INPUT >>\n",
    "Verdict: {{Verdict}}\n",
    "jobOffer: {{jobOffer}}\n",
    "personalData: {{personalData}}\n",
    "\n",
    "<< OUTPUT (remember to include the ```json)>>\"\"\" \n",
    "  \n",
    "router_template = MULTI_PROMPT_ROUTER_TEMPLATE.format(\n",
    "    destinations=destinations_str\n",
    ")  \n",
    "        \n",
    "router_prompt = PromptTemplate(\n",
    "    template=router_template,\n",
    "    input_variables=[\"Verdict\", \"jobOffer\", \"personalData\"],\n",
    "    output_parser=RouterOutputParser(),\n",
    ")\n",
    "\n",
    "routerChainDesc = LLMRouterChain.from_llm(llm, router_prompt)\n",
    "\n",
    "chainDescription = MultiPromptChain(router_chain=routerChainDesc, \n",
    "                         destination_chains=destination_chains, \n",
    "                         default_chain=default_chain)"
   ]
  },
  {
   "cell_type": "code",
   "execution_count": null,
   "metadata": {},
   "outputs": [],
   "source": [
    "overall_chain = SequentialChain(\n",
    "    chains=[chainRank, chainDescription],\n",
    "    input_variables=[\"jobOffer\", \"personalData\"],\n",
    "    output_variables=[\"Verdict\", \"text\"],\n",
    "    verbose=True\n",
    ")"
   ]
  },
  {
   "cell_type": "code",
   "execution_count": null,
   "metadata": {},
   "outputs": [],
   "source": [
    "overall_chain.chains"
   ]
  },
  {
   "cell_type": "code",
   "execution_count": null,
   "metadata": {},
   "outputs": [],
   "source": [
    "import langchain\n",
    "\n",
    "\n",
    "langchain.debug = True\n",
    "result = overall_chain({\"jobOffer\": jobOffer, \"personalData\": personalData})\n",
    "print(result)"
   ]
  }
 ],
 "metadata": {
  "kernelspec": {
   "display_name": "venv",
   "language": "python",
   "name": "python3"
  },
  "language_info": {
   "codemirror_mode": {
    "name": "ipython",
    "version": 3
   },
   "file_extension": ".py",
   "mimetype": "text/x-python",
   "name": "python",
   "nbconvert_exporter": "python",
   "pygments_lexer": "ipython3",
   "version": "3.10.10"
  },
  "orig_nbformat": 4,
  "vscode": {
   "interpreter": {
    "hash": "2dd4c0f83caf739e5f412ceff66ea8e46f3e37bbfb794296d7dabdd86d63d0c6"
   }
  }
 },
 "nbformat": 4,
 "nbformat_minor": 2
}
