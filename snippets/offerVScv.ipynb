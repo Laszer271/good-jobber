{
 "cells": [
  {
   "cell_type": "code",
   "execution_count": 47,
   "metadata": {},
   "outputs": [],
   "source": [
    "import os\n",
    "\n",
    "import warnings\n",
    "warnings.filterwarnings(\"ignore\")\n",
    "\n",
    "with open('../openai_api_key.txt', 'r') as f:\n",
    "    os.environ[\"OPENAI_API_KEY\"] = f.read()"
   ]
  },
  {
   "cell_type": "code",
   "execution_count": 48,
   "metadata": {},
   "outputs": [],
   "source": [
    "from langchain.agents.agent_toolkits import create_python_agent\n",
    "from langchain.agents import load_tools, initialize_agent\n",
    "from langchain.agents import AgentType\n",
    "from langchain.tools.python.tool import PythonREPLTool\n",
    "from langchain.python import PythonREPL\n",
    "from langchain.chat_models import ChatOpenAI\n",
    "from langchain.agents import tool\n",
    "from datetime import date\n",
    "from langchain import LLMChain\n",
    "from langchain import PromptTemplate\n",
    "from langchain.agents import ZeroShotAgent, Tool, AgentExecutor\n",
    "from langchain import OpenAI, SerpAPIWrapper, LLMChain\n",
    "from langchain.chains import SequentialChain, RouterChain, ConversationChain, LLMRouterChain, MultiPromptChain, TransformChain\n",
    "from langchain.output_parsers import StructuredOutputParser, ResponseSchema\n",
    "from langchain.prompts import ChatPromptTemplate\n",
    "from langchain.chains.router.llm_router import LLMRouterChain,RouterOutputParser\n"
   ]
  },
  {
   "cell_type": "code",
   "execution_count": 49,
   "metadata": {},
   "outputs": [],
   "source": [
    "llm = ChatOpenAI(temperature=0)"
   ]
  },
  {
   "cell_type": "code",
   "execution_count": 50,
   "metadata": {},
   "outputs": [],
   "source": [
    "personalData = \"\"\"\\\n",
    "    city: London,\\\n",
    "    job-type: [Data Scientist, AI Software Engineer],\\\n",
    "    monthly-earnings: [1500 usd, 8000 usd],\\\n",
    "    skills: [fast learning, reading complicated documentation,\\ \n",
    "        creating clean data representation, data analysis],\\\n",
    "    interests: [generating ai images, data analysis, large language models],\\\n",
    "    benefits: [flexible hours, remote, health-insurance],\\\n",
    "    technology: [linux -medium, python -advanced, pytorch -advanced, matlabplot -beginner,\\\n",
    "    stable diffusion -beginner, vsc -advanced],\\\n",
    "    languages: [English C1, Polish C1]\n",
    "    \"\"\""
   ]
  },
  {
   "cell_type": "code",
   "execution_count": 51,
   "metadata": {},
   "outputs": [],
   "source": [
    "# jobOffer = \"C++ Backend Developer Volue Sp. z o.o. technology image Category: Backend , C++ Mid Must have C++English (B2) Nice to have PythonC#Polish Requirements description C++ programming experience and knowledge of modern C++ Familiarity with Microsoft platform and tools is beneficial Experience working in larger C++ codebases Experience working effectively in a distributed team Some experience with using databases Some knowledge of Python and C# Offer description Volue is a market leader in technologies and services that power the green transition. Around 800 employees work with more than 2 200 customers on energy, power grid, water & infrastructure projects.Our mission is to provide innovative services critical to society, unlocking a cleaner, better and more profitable future. Working towards this goal, Volue has become a leading technology supplier and enabler of the green transition, helping energy companies simplify and optimize everyday operations.We are now looking for Mid/Senior Software Engineer (Mesh Team), who can help us to continuously improve Volue’s ability to provide value to customers in line with the Volue mission. Volue Mesh is a data management system based on object modelling with an integrated time series calculation engine. It is used for more efficient managing of time series data and related information used in different work processes and serves as the core of all future energy production planning and trading solutions.read more Your responsibilities Contribute to all development phases: design, develop, build, deploy and maintain the C++ codebase of Volue Mesh Work closely together with architects, domain experts and backend developers Create and maintain user friendly solutions with clear APIs with efficient resource usage and high performance Work in an international environment, where English is the spoken and written language. The team is distributed in Gdańsk and Trondheim Work in a distributed team with a flexible work-from-home policy Work closely with data intensive applications that are using Mesh and Time Series Management systems to simplify complex workflows show all (7) Job details Online recruitment Recruitment language: Polish&English Start ASAP Permanent contract Remote days: flexible in a week Flexible hours Relocation package: 6000 PLN Perks in the office Free snacks Free coffee Free beverages Gym Canteen Bike parking Playroom Shower No dress code Benefits Sport subscription Life & group insurance Private healthcare English classes Training budget Flat structure Small teams International projects\"\n",
    "jobOffer = \"\"\"city: London,\\\n",
    "    job-type: [Data Scientist, AI Software Engineer],\\\n",
    "    monthly-earnings: [1500 usd, 8000 usd],\\\n",
    "    skills: [fast learning, reading complicated documentation,\\ \n",
    "        creating clean data representation, data analysis],\\\n",
    "    benefits: [flexible hours, remote, health-insurance],\\\n",
    "    technology: [linux -medium, python -advanced, pytorch -advanced, matlabplot -beginner,\\\n",
    "    stable diffusion -beginner, vsc -advanced],\\\n",
    "    languages: [English C1, Polish C1]\"\"\"\n",
    "    \n",
    "jobOffer2 = \"\"\"\\\n",
    "    \"Tools developer (Javascript, Java)  Borealis Engineering Solutions  Category:  Fullstack ,\\u00a0 JavaScript  Mid Must have Java\\n JavaScript\\n Design Patterns\\n CI\\n Git\\n Maven\\n Jenkins\\n UI\\n English (C2)Nice to have C\\n C++\\n Eclipse\\n Requirements description \\nBSc or MSc in Electrical Engineering or Computer Science or similar with 5+ years of experience in software development\\nJava programming language knowledge\\nJavascript programming language knowledge\\nGood working knowledge of object-oriented design and design patterns\\nStrong knowledge of with version control and CI tools (GIT, Maven, Jenkins).\\nStrong analytical and communication skills\\nGood comand in english, both written and oral communication\\n\\nThe following qualifications will be considered a plus:\\n\\nExperience with Vue.js and Quasar or other front end UI developer frameworks.\\nExperience with Eclipse RCP (Rich Client Platform) development.\\nFamiliar with Eclipse plug-in development across multiple operating systems\\n\\nThe following qualifications will be considered nice to have:\\n\\nC/C++ programming expertise\\nKnowledge of embedded software development and debug practices.\\nExperience working with open source communities and projects.\\nKnowledge of PDE builds.\\nExperience working in an Agile/Scrum environment\\n Offer description Our partner is a key player in home automation, IoT and wireless technologies. As the leading provider of silicon, software, and solutions for a smarter, more connected world they offer full stack wireless connectivity technologies and a wide range of products. Budapest R&D center is tightly coupled with global research activities and integrated into the mainstream development areas.Your responsibilities In this role, you will create innovative software solutions and state-of-the-art development and hardware simulation tooling for multiple platforms.  \\tDesign, implement, and unit test features and applications  \\tUtilize innovative approaches to problem solving.  \\tPerform design and code reviews  Job details\\n Online recruitment   Recruitment language: Hungarian&English   Start ASAP   Permanent contract   Paid holiday for: Employment contract    Remote for 2 days a week   Flexible hours   Equipment supplied\\n Computer: Notebook  Methodology\\n Agile management Scrum, Kanban, Agile Issue tracking tool  Version control system GIT Build server Jenkins Perks in the office\\n Free coffee  No dress code  In-house trainings  Benefits\\n International projects  Small teams\"\"\"\n",
    "    \n",
    "jobOffer3 = \"\"\"\n",
    "    Junior JavaScript Developer  4 The Player  Category:  Frontend ,\\u00a0 JavaScript  Junior Must have JavaScript\\n HTML\\n OOP\\n Git\\n C#\\n TypeScript\\n Polish  English Nice to have Webpack\\n CSS\\n Requirements description Optional:\\n\\nPixi.js\\nTeam player\\nCommunication skills\\nnode.js\\nhowler.js\\nAttention to detail\\nBeing able to deal with the pressure\\nWilling to learn\\n Offer description We are looking for an awesome JavaScript Game Developer to join our new remote games development team. 4ThePlayer.com is an up-and-coming creator of online gambling games (slots, table games and others). The company was founded in 2018 by two luminaries of the gambling gaming industry, Chris Ash and Andrew Porter, who have a combined 40 years of gaming industry experience. 4ThePlayer has been tipped for significant success, shortlisted to industry awards (EGR Awards) and rapidly increasing our reputation for a forward-thinking approach to game design. We are on track for exponential growth and to become an industry leader.Your responsibilities Creating games using high-quality code in JavaScript/HTML5  Implement animations, effects, and particle systems  Identify and resolve development problems  Collaborate with developers, graphic artists, audio and QA team  Job details\\n Online recruitment   Recruitment language: English&Polish   Start ASAP   Permanent contract   Paid holiday for: B2B    Fully remote   Flexible hours   No travel involved   Mainly new features   Mo\\u017cliwo\\u015b\\u0107 negocjacji wynagrodzenia: Tak   Equipment supplied\\n Windows  Computer: As you wish :)  As you wish :)  Methodology\\n Agile management Agile Issue tracking tool Jira, Trello, Github Knowledge repository GitHub Code reviews GitHub Version control system GIT Benefits\\n Small teams  International projects  Flat structure  Paid holiday  Fridays slot session  Work in the international team  Professional growth\"\n",
    " \"\"\"\n",
    " \n",
    "jobOffer4 = \"\"\"AI Developer  lemon.io  Category:  AI ,\\u00a0 Python  Senior Must have Python\\n AI\\n Java\\n C++\\n Machine Learning\\n NLP\\n TensorFlow\\n PyTorch\\n Keras\\n Degree\\n SAN\\n English (B2) Requirements description \\nMinimum of 3 years of proven experience in applying AI to practical technology solutions\\nSolid understanding of common programming languages used in AI, such as Python, Java, C++, and R\\nHands-on experience in machine learning/NLP/deep learning/computer vision\\nExperience with TensorFlow/Caffe/PyTorch/Keras/Scikit Learn/Theano\\nExperience working with large data sets and writing efficient code capable of processing large data streams at speed\\nStrong analytical skills for designing and implementing machine learning models, analyzing data sets, and identifying patterns and trends\\nFamiliarity with Cloud environments\\nBachelor\\u2019s/Master\\u2019s degree in computer science, data science, software development, or another related field would be a plus\\nCreative mindset to develop innovative solutions to complex problems and challenges in AI development\\nProblem-solving skills to identify and solve complex problems using AI techniques\\nCommitment to continuous learning and keeping up with the latest advancements in AI technology and techniques.\\nGood command of English, both written and spoken, as you\\u2019ll be communicating with clients directly\\nStrong organizational skills \\u2014 ability to work full-time remotely with no supervision\\nResponsibility \\u2014 we want to trust you\\nSoft skills \\u2014 we value clear and effective communication, at the same time don't force you becoming a public speaker\\n\\nReady to take your career to the next level? Apply now and join the Lemon.io family!\\nIf your experience matches with our requirements be ready for the next steps:\\n\\nVideoAsk (about 10 minutes)\\nCompleting your me.lemon profile\\n30 minutes Screening call with our Recruiters\\nTechnical Interview with our Developers\\nFeedback\\nMagic Box (we are looking for best project for you)\\n\\nP.S. We work with developers from LATAM, Canada, UK, Europe BUT we have some exceptions.\\nAt the moment, we don\\u2019t have a legal basis to accept applicants from Monaco, Belarus, Russia, Serbia, Denmark, Norway, Luxemburg, Iceland, Liechtenstein, San Marino, Belize, Cuba, Nicaragua, Saint Lucia, so we don\\u2019t work with applicants from these countries. Offer description Are you a talented developer looking for a remote job that lets you showcase your skills while also enjoying better compensation and career growth? Look no further than Lemon.io, the marketplace that connects you with hand-picked startups in the US and Europe.\\nYou'll love working with us, because:\\n\\nWe understand that respecting your time is key to your success, which is why we connect you with teams that won't micromanage or require time trackers.\\nYou can earn $5k - $10k monthly\\u00a0(the rate may differ due to skill and/or level of experience), and we've already paid out over $10M to our engineers.\\nWith flexible working hours and the ability to work asynchronously, you can choose a schedule that works best for you.\\nSay goodbye to project managers, and hello to direct communication with clients. Most of them have technical backgrounds. Sounds good, yeah?\\nNo more hunting for clients or negotiating rates - let us handle the business side of things so you can focus on what you do best.\\nEnjoy the fast-paced startup environment that will keep you motivated and engaged.\\nPass the interviews now and start working when you're ready - even if that's a few months down the line.\\nWe'll manually find you the best project to match your skills and preferences.\\nConnect with the best developers in the world through our community.\\n Job details\\n Recruitment language: English   Start ASAP   Permanent contract   Paid holiday for: Employment contract    Fully remote   Flexible hours   Equipment supplied\\n Linux  Apple  Windows  Methodology\\n Agile management  Issue tracking tool\"\"\""
   ]
  },
  {
   "cell_type": "code",
   "execution_count": 52,
   "metadata": {},
   "outputs": [],
   "source": [
    "queryRank = \"\"\"Please, process given job offer and in the answer put an \\\n",
    "    header: \"Verdict: match-level\", where match levels are:\\\n",
    "    [Not appropriate, Acceptable, Ok, Super]. Chosen level shall depend on this how well given job \\\n",
    "    offer matches client job qualifications and preferences.\n",
    "    \n",
    "    Instructions:\n",
    "    If client's job qualifications and preferences are very close or identical to job's profile and requirements return 'Super'\n",
    "    For example if you see that client is senior data scientist and job offer is related to senior data scientist return 'Super' \n",
    "    \n",
    "    If client's job qualifications and preferences matches with at least half of job profile and requirements return 'Ok'.\n",
    "    \n",
    "    If client's job qualifications and preferences somewhat meet job's important requirements \\\n",
    "    and profile return 'Acceptable'. For example One third of job's requirements are met mean that you should return 'Acceptable'\n",
    "    \n",
    "    If client's job qualifications and preferences mostly do not meet job's important requirements \\\n",
    "    and profile return 'Not Appropriate'\n",
    "    \n",
    "    \n",
    "    job offer: \n",
    "    {jobOffer}; \\\n",
    "    client's job qualifications and preferences:\n",
    "    {personalData};\\\n",
    "    \"\"\"\n",
    "\n",
    "promptRank = PromptTemplate(template=queryRank, input_variables=[\"jobOffer\", \"personalData\"])\n",
    "\n",
    "chainRank = LLMChain(llm=llm, prompt=promptRank, output_key='Verdict')"
   ]
  },
  {
   "cell_type": "code",
   "execution_count": 53,
   "metadata": {},
   "outputs": [],
   "source": [
    "desc = \"\"\"\n",
    "    You will be given 3 things:\n",
    "    1. Job offer\n",
    "    2. Client's job qualifications and preferences\n",
    "    3. Recruiters' verdict ('Not appropriate' or 'Acceptable' or 'Ok' or 'Super')\n",
    "\n",
    "    Describe a rationale behind recruiters' verdict. Find argument for why this verdict was given for this candidate and job offer. \\\n",
    "    Your description should be brief and should not exceed 3 sentences. Thy to make that decription more like a brief comment.\n",
    "    \n",
    "    If Recrutier's verdict is 'Not appropriate':\n",
    "    Just say nothing, your response cannot contain any words and signs.\n",
    "    \n",
    "    If Recrutier's verdict is 'Acceptable':\n",
    "    In brief words write a comment that will describe why job offer might be ok for clients qualifications and preferences.\n",
    "    Do not exceed 3 sentences. Do not be too enthustiastic, mention what qualifications or preferences are not met. \n",
    "    Thy to make that decription more like a brief comment. Do not mention explicitly an information that job offer is Acceptable, because\n",
    "    client already knows that.\n",
    "    \n",
    "    If Recrutier's verdict is 'Ok':\n",
    "    In brief words write a comment that will describe why job offer is ok choice for clients qualifications and preferences.\n",
    "    Do not exceed 3 sentences. Write what requirements are not met. Thy to make that decription more like a brief comment.\n",
    "    Do not mention explicitly an information that job offer is Acceptable, because\n",
    "    client already knows that.\n",
    "    \n",
    "    If Recrutier's verdict is 'Super':\n",
    "    In brief words write a comment that will describe why job offer is ok choice for clients qualifications and preferences.\n",
    "    Do not exceed 3 sentences. Write that that job is perfect for the client, be very enthustiastic. \n",
    "    Thy to make that decription more like a brief comment.\n",
    "    Do not mention explicitly an information that job offer is Acceptable, because\n",
    "    client already knows that.\n",
    "\n",
    "    Job Offer:\n",
    "    {jobOffer}\n",
    "    Candidate's job qualifications and preferences:\n",
    "    {personalData}\n",
    "    Recruiters' verdict:\n",
    "    {Verdict}\n",
    "    \"\"\"\n",
    "\n",
    "desc_prompt = PromptTemplate(template=desc, input_variables=[\"jobOffer\", \"personalData\", \"Verdict\"])\n",
    "\n",
    "# desc_prompt = PromptTemplate(\n",
    "#     template=desc_template,\n",
    "#     input_variables=[\"Verdict\", \"jobOffer\", \"personalData\"],\n",
    "# )\n",
    "\n",
    "chainDescription = LLMChain(llm=llm, prompt=desc_prompt, output_key='Description')"
   ]
  },
  {
   "cell_type": "code",
   "execution_count": 54,
   "metadata": {},
   "outputs": [],
   "source": [
    "overall_chain = SequentialChain(\n",
    "    chains=[chainRank, chainDescription],\n",
    "    input_variables=[\"jobOffer\", \"personalData\"],\n",
    "    output_variables=[\"Verdict\", \"Description\"],\n",
    "    verbose=True\n",
    ")"
   ]
  },
  {
   "cell_type": "code",
   "execution_count": 55,
   "metadata": {},
   "outputs": [
    {
     "name": "stdout",
     "output_type": "stream",
     "text": [
      "\n",
      "\n",
      "\u001b[1m> Entering new SequentialChain chain...\u001b[0m\n",
      "\n",
      "\u001b[1m> Finished chain.\u001b[0m\n"
     ]
    },
    {
     "data": {
      "text/plain": [
       "\"This job offer is a perfect match for the candidate's qualifications and preferences. The candidate's skills in fast learning, reading complicated documentation, creating clean data representation, and data analysis align perfectly with the job requirements for a Data Scientist or AI Software Engineer. Additionally, the candidate's interests in generating AI images, data analysis, and large language models make them an ideal fit for this position.\""
      ]
     },
     "execution_count": 55,
     "metadata": {},
     "output_type": "execute_result"
    }
   ],
   "source": [
    "# result = overall_chain({'jobOffer': jobOffer, 'personalData': personalData})\n",
    "\n",
    "# result['Verdict']\n",
    "# result['Description']"
   ]
  },
  {
   "cell_type": "code",
   "execution_count": 56,
   "metadata": {},
   "outputs": [
    {
     "name": "stdout",
     "output_type": "stream",
     "text": [
      "\n",
      "\n",
      "\u001b[1m> Entering new SequentialChain chain...\u001b[0m\n"
     ]
    },
    {
     "name": "stderr",
     "output_type": "stream",
     "text": [
      "Retrying langchain.chat_models.openai.ChatOpenAI.completion_with_retry.<locals>._completion_with_retry in 1.0 seconds as it raised RateLimitError: Rate limit reached for default-gpt-3.5-turbo in organization org-jt4dQuftpvIyXKTy70KOdMlC on requests per min. Limit: 3 / min. Please try again in 20s. Contact us through our help center at help.openai.com if you continue to have issues. Please add a payment method to your account to increase your rate limit. Visit https://platform.openai.com/account/billing to add a payment method..\n",
      "Retrying langchain.chat_models.openai.ChatOpenAI.completion_with_retry.<locals>._completion_with_retry in 2.0 seconds as it raised RateLimitError: Rate limit reached for default-gpt-3.5-turbo in organization org-jt4dQuftpvIyXKTy70KOdMlC on requests per min. Limit: 3 / min. Please try again in 20s. Contact us through our help center at help.openai.com if you continue to have issues. Please add a payment method to your account to increase your rate limit. Visit https://platform.openai.com/account/billing to add a payment method..\n",
      "Retrying langchain.chat_models.openai.ChatOpenAI.completion_with_retry.<locals>._completion_with_retry in 4.0 seconds as it raised RateLimitError: Rate limit reached for default-gpt-3.5-turbo in organization org-jt4dQuftpvIyXKTy70KOdMlC on requests per min. Limit: 3 / min. Please try again in 20s. Contact us through our help center at help.openai.com if you continue to have issues. Please add a payment method to your account to increase your rate limit. Visit https://platform.openai.com/account/billing to add a payment method..\n",
      "Retrying langchain.chat_models.openai.ChatOpenAI.completion_with_retry.<locals>._completion_with_retry in 8.0 seconds as it raised RateLimitError: Rate limit reached for default-gpt-3.5-turbo in organization org-jt4dQuftpvIyXKTy70KOdMlC on requests per min. Limit: 3 / min. Please try again in 20s. Contact us through our help center at help.openai.com if you continue to have issues. Please add a payment method to your account to increase your rate limit. Visit https://platform.openai.com/account/billing to add a payment method..\n"
     ]
    },
    {
     "name": "stdout",
     "output_type": "stream",
     "text": [
      "\n",
      "\u001b[1m> Finished chain.\u001b[0m\n"
     ]
    },
    {
     "data": {
      "text/plain": [
       "\"The job offer is acceptable for the client's qualifications and preferences. However, the client's preference for AI-related roles and interests in generating AI images and large language models are not fully met by the job offer for a Tools Developer position.\""
      ]
     },
     "execution_count": 56,
     "metadata": {},
     "output_type": "execute_result"
    }
   ],
   "source": [
    "# result2 = overall_chain({'jobOffer': jobOffer2, 'personalData': personalData})\n",
    "\n",
    "# result2['Verdict']\n",
    "# result2['Description']"
   ]
  },
  {
   "cell_type": "code",
   "execution_count": 57,
   "metadata": {},
   "outputs": [
    {
     "name": "stdout",
     "output_type": "stream",
     "text": [
      "\n",
      "\n",
      "\u001b[1m> Entering new SequentialChain chain...\u001b[0m\n"
     ]
    },
    {
     "name": "stderr",
     "output_type": "stream",
     "text": [
      "Retrying langchain.chat_models.openai.ChatOpenAI.completion_with_retry.<locals>._completion_with_retry in 1.0 seconds as it raised RateLimitError: Rate limit reached for default-gpt-3.5-turbo in organization org-jt4dQuftpvIyXKTy70KOdMlC on requests per min. Limit: 3 / min. Please try again in 20s. Contact us through our help center at help.openai.com if you continue to have issues. Please add a payment method to your account to increase your rate limit. Visit https://platform.openai.com/account/billing to add a payment method..\n",
      "Retrying langchain.chat_models.openai.ChatOpenAI.completion_with_retry.<locals>._completion_with_retry in 2.0 seconds as it raised RateLimitError: Rate limit reached for default-gpt-3.5-turbo in organization org-jt4dQuftpvIyXKTy70KOdMlC on requests per min. Limit: 3 / min. Please try again in 20s. Contact us through our help center at help.openai.com if you continue to have issues. Please add a payment method to your account to increase your rate limit. Visit https://platform.openai.com/account/billing to add a payment method..\n",
      "Retrying langchain.chat_models.openai.ChatOpenAI.completion_with_retry.<locals>._completion_with_retry in 4.0 seconds as it raised RateLimitError: Rate limit reached for default-gpt-3.5-turbo in organization org-jt4dQuftpvIyXKTy70KOdMlC on requests per min. Limit: 3 / min. Please try again in 20s. Contact us through our help center at help.openai.com if you continue to have issues. Please add a payment method to your account to increase your rate limit. Visit https://platform.openai.com/account/billing to add a payment method..\n",
      "Retrying langchain.chat_models.openai.ChatOpenAI.completion_with_retry.<locals>._completion_with_retry in 8.0 seconds as it raised RateLimitError: Rate limit reached for default-gpt-3.5-turbo in organization org-jt4dQuftpvIyXKTy70KOdMlC on requests per min. Limit: 3 / min. Please try again in 20s. Contact us through our help center at help.openai.com if you continue to have issues. Please add a payment method to your account to increase your rate limit. Visit https://platform.openai.com/account/billing to add a payment method..\n",
      "Retrying langchain.chat_models.openai.ChatOpenAI.completion_with_retry.<locals>._completion_with_retry in 1.0 seconds as it raised RateLimitError: Rate limit reached for default-gpt-3.5-turbo in organization org-jt4dQuftpvIyXKTy70KOdMlC on requests per min. Limit: 3 / min. Please try again in 20s. Contact us through our help center at help.openai.com if you continue to have issues. Please add a payment method to your account to increase your rate limit. Visit https://platform.openai.com/account/billing to add a payment method..\n",
      "Retrying langchain.chat_models.openai.ChatOpenAI.completion_with_retry.<locals>._completion_with_retry in 2.0 seconds as it raised RateLimitError: Rate limit reached for default-gpt-3.5-turbo in organization org-jt4dQuftpvIyXKTy70KOdMlC on requests per min. Limit: 3 / min. Please try again in 20s. Contact us through our help center at help.openai.com if you continue to have issues. Please add a payment method to your account to increase your rate limit. Visit https://platform.openai.com/account/billing to add a payment method..\n",
      "Retrying langchain.chat_models.openai.ChatOpenAI.completion_with_retry.<locals>._completion_with_retry in 4.0 seconds as it raised RateLimitError: Rate limit reached for default-gpt-3.5-turbo in organization org-jt4dQuftpvIyXKTy70KOdMlC on requests per min. Limit: 3 / min. Please try again in 20s. Contact us through our help center at help.openai.com if you continue to have issues. Please add a payment method to your account to increase your rate limit. Visit https://platform.openai.com/account/billing to add a payment method..\n",
      "Retrying langchain.chat_models.openai.ChatOpenAI.completion_with_retry.<locals>._completion_with_retry in 8.0 seconds as it raised RateLimitError: Rate limit reached for default-gpt-3.5-turbo in organization org-jt4dQuftpvIyXKTy70KOdMlC on requests per min. Limit: 3 / min. Please try again in 20s. Contact us through our help center at help.openai.com if you continue to have issues. Please add a payment method to your account to increase your rate limit. Visit https://platform.openai.com/account/billing to add a payment method..\n"
     ]
    },
    {
     "name": "stdout",
     "output_type": "stream",
     "text": [
      "\n",
      "\u001b[1m> Finished chain.\u001b[0m\n"
     ]
    },
    {
     "data": {
      "text/plain": [
       "\"The job offer for a Junior JavaScript Developer at 4 The Player is acceptable for the candidate's qualifications and preferences. However, the candidate's skills in Python, PyTorch, and data analysis may not be fully utilized in this role.\""
      ]
     },
     "execution_count": 57,
     "metadata": {},
     "output_type": "execute_result"
    }
   ],
   "source": [
    "# result3 = overall_chain({'jobOffer': jobOffer3, 'personalData': personalData})\n",
    "\n",
    "# result3['Verdict']\n",
    "# result3['Description']"
   ]
  },
  {
   "cell_type": "code",
   "execution_count": 58,
   "metadata": {},
   "outputs": [
    {
     "name": "stdout",
     "output_type": "stream",
     "text": [
      "\n",
      "\n",
      "\u001b[1m> Entering new SequentialChain chain...\u001b[0m\n"
     ]
    },
    {
     "name": "stderr",
     "output_type": "stream",
     "text": [
      "Retrying langchain.chat_models.openai.ChatOpenAI.completion_with_retry.<locals>._completion_with_retry in 1.0 seconds as it raised RateLimitError: Rate limit reached for default-gpt-3.5-turbo in organization org-jt4dQuftpvIyXKTy70KOdMlC on requests per min. Limit: 3 / min. Please try again in 20s. Contact us through our help center at help.openai.com if you continue to have issues. Please add a payment method to your account to increase your rate limit. Visit https://platform.openai.com/account/billing to add a payment method..\n",
      "Retrying langchain.chat_models.openai.ChatOpenAI.completion_with_retry.<locals>._completion_with_retry in 2.0 seconds as it raised RateLimitError: Rate limit reached for default-gpt-3.5-turbo in organization org-jt4dQuftpvIyXKTy70KOdMlC on requests per min. Limit: 3 / min. Please try again in 20s. Contact us through our help center at help.openai.com if you continue to have issues. Please add a payment method to your account to increase your rate limit. Visit https://platform.openai.com/account/billing to add a payment method..\n",
      "Retrying langchain.chat_models.openai.ChatOpenAI.completion_with_retry.<locals>._completion_with_retry in 4.0 seconds as it raised RateLimitError: Rate limit reached for default-gpt-3.5-turbo in organization org-jt4dQuftpvIyXKTy70KOdMlC on requests per min. Limit: 3 / min. Please try again in 20s. Contact us through our help center at help.openai.com if you continue to have issues. Please add a payment method to your account to increase your rate limit. Visit https://platform.openai.com/account/billing to add a payment method..\n",
      "Retrying langchain.chat_models.openai.ChatOpenAI.completion_with_retry.<locals>._completion_with_retry in 8.0 seconds as it raised RateLimitError: Rate limit reached for default-gpt-3.5-turbo in organization org-jt4dQuftpvIyXKTy70KOdMlC on requests per min. Limit: 3 / min. Please try again in 20s. Contact us through our help center at help.openai.com if you continue to have issues. Please add a payment method to your account to increase your rate limit. Visit https://platform.openai.com/account/billing to add a payment method..\n",
      "Retrying langchain.chat_models.openai.ChatOpenAI.completion_with_retry.<locals>._completion_with_retry in 16.0 seconds as it raised RateLimitError: Rate limit reached for default-gpt-3.5-turbo in organization org-jt4dQuftpvIyXKTy70KOdMlC on requests per min. Limit: 3 / min. Please try again in 20s. Contact us through our help center at help.openai.com if you continue to have issues. Please add a payment method to your account to increase your rate limit. Visit https://platform.openai.com/account/billing to add a payment method..\n",
      "Retrying langchain.chat_models.openai.ChatOpenAI.completion_with_retry.<locals>._completion_with_retry in 1.0 seconds as it raised RateLimitError: Rate limit reached for default-gpt-3.5-turbo in organization org-jt4dQuftpvIyXKTy70KOdMlC on requests per min. Limit: 3 / min. Please try again in 20s. Contact us through our help center at help.openai.com if you continue to have issues. Please add a payment method to your account to increase your rate limit. Visit https://platform.openai.com/account/billing to add a payment method..\n",
      "Retrying langchain.chat_models.openai.ChatOpenAI.completion_with_retry.<locals>._completion_with_retry in 2.0 seconds as it raised RateLimitError: Rate limit reached for default-gpt-3.5-turbo in organization org-jt4dQuftpvIyXKTy70KOdMlC on requests per min. Limit: 3 / min. Please try again in 20s. Contact us through our help center at help.openai.com if you continue to have issues. Please add a payment method to your account to increase your rate limit. Visit https://platform.openai.com/account/billing to add a payment method..\n"
     ]
    },
    {
     "name": "stdout",
     "output_type": "stream",
     "text": [
      "\n",
      "\u001b[1m> Finished chain.\u001b[0m\n"
     ]
    },
    {
     "data": {
      "text/plain": [
       "\"The job offer is acceptable for the client's qualifications and preferences. The client meets the required qualifications in terms of Python and PyTorch skills, and their interests in data analysis align with the job requirements. However, their skills in Matlabplot and Stable Diffusion are not at an advanced level.\""
      ]
     },
     "execution_count": 58,
     "metadata": {},
     "output_type": "execute_result"
    }
   ],
   "source": [
    "# result4 = overall_chain({'jobOffer': jobOffer4, 'personalData': personalData})\n",
    "\n",
    "# result4['Verdict']\n",
    "# result4['Description']"
   ]
  },
  {
   "cell_type": "code",
   "execution_count": 85,
   "metadata": {},
   "outputs": [
    {
     "name": "stderr",
     "output_type": "stream",
     "text": [
      "Downloading (…)a8e1d/.gitattributes: 100%|██████████| 1.18k/1.18k [00:00<00:00, 5.48MB/s]\n",
      "Downloading (…)_Pooling/config.json: 100%|██████████| 190/190 [00:00<00:00, 607kB/s]\n",
      "Downloading (…)b20bca8e1d/README.md: 100%|██████████| 10.6k/10.6k [00:00<00:00, 9.77MB/s]\n",
      "Downloading (…)0bca8e1d/config.json: 100%|██████████| 571/571 [00:00<00:00, 2.00MB/s]\n",
      "Downloading (…)ce_transformers.json: 100%|██████████| 116/116 [00:00<00:00, 453kB/s]\n",
      "Downloading (…)e1d/data_config.json: 100%|██████████| 39.3k/39.3k [00:00<00:00, 6.12MB/s]\n",
      "Downloading pytorch_model.bin: 100%|██████████| 438M/438M [00:40<00:00, 10.8MB/s] \n",
      "Downloading (…)nce_bert_config.json: 100%|██████████| 53.0/53.0 [00:00<00:00, 180kB/s]\n",
      "Downloading (…)cial_tokens_map.json: 100%|██████████| 239/239 [00:00<00:00, 970kB/s]\n",
      "Downloading (…)a8e1d/tokenizer.json: 100%|██████████| 466k/466k [00:00<00:00, 4.10MB/s]\n",
      "Downloading (…)okenizer_config.json: 100%|██████████| 363/363 [00:00<00:00, 1.00MB/s]\n",
      "Downloading (…)8e1d/train_script.py: 100%|██████████| 13.1k/13.1k [00:00<00:00, 31.8MB/s]\n",
      "Downloading (…)b20bca8e1d/vocab.txt: 100%|██████████| 232k/232k [00:00<00:00, 14.5MB/s]\n",
      "Downloading (…)bca8e1d/modules.json: 100%|██████████| 349/349 [00:00<00:00, 1.51MB/s]\n"
     ]
    }
   ],
   "source": [
    "from langchain.document_loaders import TextLoader\n",
    "from langchain.embeddings.openai import OpenAIEmbeddings\n",
    "from langchain.embeddings import HuggingFaceEmbeddings\n",
    "from langchain.vectorstores import Chroma\n",
    "import pandas as pd\n",
    "import tiktoken\n",
    "\n",
    "# class PageContent:\n",
    "#     def __init__(self, content):\n",
    "#         self.page_content = content\n",
    "#         self.metadata = \"\"\n",
    "\n",
    "# data = pd.read_json('../data/all_offers_with_desc_pruned.json', orient='index')['Description'].reset_index(drop=True).to_list()\n",
    "# data_dics = [PageContent(content) for content in data]\n",
    "\n",
    "# db = Chroma.from_documents(data_dics, OpenAIEmbeddings())\n",
    "\n",
    "data = pd.read_json('../data/all_offers_with_desc_pruned.json', orient='index')['Description'].reset_index(drop=True)\\\n",
    "    .sample(frac=1).to_list()\n",
    "data = data[:len(data)]\n",
    "filtered_list = list(filter(None, data))\n",
    "\n",
    "\n",
    "db = Chroma.from_texts(filtered_list, HuggingFaceEmbeddings())"
   ]
  },
  {
   "cell_type": "code",
   "execution_count": 59,
   "metadata": {},
   "outputs": [
    {
     "ename": "RuntimeError",
     "evalue": "No active exception to reraise",
     "output_type": "error",
     "traceback": [
      "\u001b[0;31m---------------------------------------------------------------------------\u001b[0m",
      "\u001b[0;31mRuntimeError\u001b[0m                              Traceback (most recent call last)",
      "Cell \u001b[0;32mIn[59], line 1\u001b[0m\n\u001b[0;32m----> 1\u001b[0m \u001b[39mraise\u001b[39;00m\n",
      "\u001b[0;31mRuntimeError\u001b[0m: No active exception to reraise"
     ]
    }
   ],
   "source": [
    "raise"
   ]
  },
  {
   "cell_type": "code",
   "execution_count": null,
   "metadata": {},
   "outputs": [],
   "source": [
    "result = chainRank({\"jobOffer\": jobOffer, \"personalData\": personalData})"
   ]
  },
  {
   "cell_type": "code",
   "execution_count": null,
   "metadata": {},
   "outputs": [],
   "source": [
    "print(result)"
   ]
  },
  {
   "cell_type": "code",
   "execution_count": null,
   "metadata": {},
   "outputs": [],
   "source": [
    "superVerdictTemplate = \"\"\"You are given a job offer and client personal perferences and qualifications. \\\n",
    "    Your task is to briefly, reason why given job offer would be good choice for a client. Be very enthustiastic, \\\n",
    "    try to limit your answer to just two sentences. Write only that reasoning in your answer. \\\n",
    "    Here is job offer: \n",
    "    {jobOffer} \n",
    "    \n",
    "    And here are informations about a client:\n",
    "    {personalData}\"\"\"\n",
    "    \n",
    "okVerdictTemplate = \"\"\"You are given a job offer and client personal perferences and qualifications. \\\n",
    "    Your task is to briefly, reason why given job offer would be ok choice for a client. \\\n",
    "    Try to limit your answer to just three sentences. Tell what might not suit a client in the offer. \\\n",
    "    Write only that reasoning in your answer. \\\n",
    "    Here is job offer: \n",
    "    {jobOffer} \n",
    "    \n",
    "    And here are informations about a client:\n",
    "    {personalData}\"\"\"\n",
    "    \n",
    "acceptableVerdictTemplate = \"\"\"You are given a job offer and client personal perferences and qualifications. \\\n",
    "    Your task is to briefly, reason why given job offer would be ok choice for a client. \\\n",
    "    Try to limit your answer to just three sentences. Tell that job can be hard to get with the client's qualifications or \\\n",
    "    might just not suit the client's preferences. \\\n",
    "    Write only that reasoning in your answer. \\\n",
    "    Here is job offer: \n",
    "    {jobOffer} \n",
    "    \n",
    "    And here are informations about a client:\n",
    "    {personalData}\"\"\"\n",
    "\n",
    "# def transform_func(inputs: dict) -> dict:\n",
    "#     return {\"description\": \"\"} \n",
    "\n",
    "# default_chainsssss = TransformChain(\n",
    "#     input_variables=[\"input\"],\n",
    "#     output_variables=[\"Reasoning\"],\n",
    "#     transform=transform_func\n",
    "# )\n",
    "\n",
    "default_chain = ConversationChain(llm=llm, output_key=\"Reasoning\")\n",
    "\n",
    "prompt_infos = [\n",
    "    {\n",
    "        \"name\": \"Acceptable\", \n",
    "        \"description\": \"Good for describing acceptable job offers based on 2 variables: job_offer and personal_data\", \n",
    "        \"prompt_template\": acceptableVerdictTemplate\n",
    "    },\n",
    "    {\n",
    "        \"name\": \"Ok\", \n",
    "        \"description\": \"Good for describing Ok job offers based on 2 variables: job_offer and personal_data\", \n",
    "        \"prompt_template\": okVerdictTemplate\n",
    "    },\n",
    "    {\n",
    "        \"name\": \"Super\", \n",
    "        \"description\": \"Good for describing super job offers based on 2 variables: job_offer and personal_data\", \n",
    "        \"prompt_template\": superVerdictTemplate\n",
    "    },\n",
    "]\n",
    "\n",
    "destination_chains = {}\n",
    "for p_info in prompt_infos:\n",
    "    name = p_info[\"name\"]\n",
    "    prompt_template = p_info[\"prompt_template\"]\n",
    "    prompt = PromptTemplate(template=prompt_template, input_variables=['personalData', 'jobOffer'])\n",
    "    chain = LLMChain(llm=llm, prompt=prompt, output_key=\"Reasoning\")\n",
    "    destination_chains[name] = chain  \n",
    "    \n",
    "destinations = [f\"{p['name']}: {p['description']}\" for p in prompt_infos]\n",
    "destinations_str = \"\\n\".join(destinations)\n",
    " \n",
    "MULTI_PROMPT_ROUTER_TEMPLATE = \"\"\"Given a raw text input to a \\\n",
    "language model select the model prompt best suited for the input. \\\n",
    "You will be given the names of the available prompts and a \\\n",
    "description of what the prompt is best suited for. \\\n",
    "You may also revise the original input if you think that revising\\\n",
    "it will ultimately lead to a better response from the language model.\n",
    "\n",
    "<< FORMATTING >>\n",
    "Return a markdown code snippet with a JSON object formatted to look like:\n",
    "```json\n",
    "{{{{\n",
    "    \"destination\": string \\ name of the prompt to use or \"DEFAULT\"\n",
    "    \"next_inputs\": string \\ a potentially modified version of the original input\n",
    "}}}}\n",
    "```\n",
    "\n",
    "REMEMBER: \"destination\" MUST be one of the candidate prompt \\\n",
    "names specified below OR it can be \"DEFAULT\" if the input is not\\\n",
    "well suited for any of the candidate prompts.\n",
    "REMEMBER: \"next_inputs\" can just be the original input \\\n",
    "if you don't think any modifications are needed.\n",
    "\n",
    "<< CANDIDATE PROMPTS >>\n",
    "{destinations}\n",
    "\n",
    "<< INPUT >>\n",
    "Verdict: {{Verdict}}\n",
    "jobOffer: {{jobOffer}}\n",
    "personalData: {{personalData}}\n",
    "\n",
    "<< OUTPUT (remember to include the ```json)>>\"\"\" \n",
    "  \n",
    "router_template = MULTI_PROMPT_ROUTER_TEMPLATE.format(\n",
    "    destinations=destinations_str\n",
    ")  \n",
    "        \n",
    "router_prompt = PromptTemplate(\n",
    "    template=router_template,\n",
    "    input_variables=[\"Verdict\", \"jobOffer\", \"personalData\"],\n",
    "    output_parser=RouterOutputParser(),\n",
    ")\n",
    "\n",
    "routerChainDesc = LLMRouterChain.from_llm(llm, router_prompt)\n",
    "\n",
    "chainDescription = MultiPromptChain(router_chain=routerChainDesc, \n",
    "                         destination_chains=destination_chains, \n",
    "                         default_chain=default_chain)"
   ]
  },
  {
   "cell_type": "code",
   "execution_count": null,
   "metadata": {},
   "outputs": [],
   "source": [
    "overall_chain = SequentialChain(\n",
    "    chains=[chainRank, chainDescription],\n",
    "    input_variables=[\"jobOffer\", \"personalData\"],\n",
    "    output_variables=[\"Verdict\", \"text\"],\n",
    "    verbose=True\n",
    ")"
   ]
  },
  {
   "cell_type": "code",
   "execution_count": null,
   "metadata": {},
   "outputs": [],
   "source": [
    "overall_chain.chains"
   ]
  },
  {
   "cell_type": "code",
   "execution_count": null,
   "metadata": {},
   "outputs": [],
   "source": [
    "import langchain\n",
    "\n",
    "\n",
    "langchain.debug = True\n",
    "result = overall_chain({\"jobOffer\": jobOffer, \"personalData\": personalData})\n",
    "print(result)"
   ]
  }
 ],
 "metadata": {
  "kernelspec": {
   "display_name": "venv",
   "language": "python",
   "name": "python3"
  },
  "language_info": {
   "codemirror_mode": {
    "name": "ipython",
    "version": 3
   },
   "file_extension": ".py",
   "mimetype": "text/x-python",
   "name": "python",
   "nbconvert_exporter": "python",
   "pygments_lexer": "ipython3",
   "version": "3.10.6"
  },
  "orig_nbformat": 4,
  "vscode": {
   "interpreter": {
    "hash": "2dd4c0f83caf739e5f412ceff66ea8e46f3e37bbfb794296d7dabdd86d63d0c6"
   }
  }
 },
 "nbformat": 4,
 "nbformat_minor": 2
}
